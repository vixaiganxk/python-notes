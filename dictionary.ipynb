{
 "cells": [
  {
   "cell_type": "markdown",
   "metadata": {},
   "source": [
    "# Python Basics\n",
    "\n",
    "## 1. Dictionary\n",
    "#### Definition\n",
    "- Heterogeneous datatype which contains the key-value pairs inside curly-brace {}.\n",
    "- Consists of unique keys in place of index."
   ]
  },
  {
   "cell_type": "markdown",
   "metadata": {},
   "source": [
    "##### 1A. Creation of Dictionary"
   ]
  },
  {
   "cell_type": "code",
   "execution_count": 202,
   "metadata": {},
   "outputs": [
    {
     "name": "stdout",
     "output_type": "stream",
     "text": [
      "{'name': 'Mark', 'age': 25, 'gender': 'M', 'courses': ['Math', 'Science', 'CS']}\n"
     ]
    }
   ],
   "source": [
    "#Simple dictionary creation\n",
    "student = {'name': 'Mark', 'age': 25, 'gender': 'M', 'courses': ['Math', 'Science', 'CS']}\n",
    "print(student)"
   ]
  },
  {
   "cell_type": "markdown",
   "metadata": {},
   "source": [
    "##### 1B. Accessing the dictionary - key & values"
   ]
  },
  {
   "cell_type": "code",
   "execution_count": 204,
   "metadata": {},
   "outputs": [
    {
     "data": {
      "text/plain": [
       "'Not Found'"
      ]
     },
     "execution_count": 204,
     "metadata": {},
     "output_type": "execute_result"
    }
   ],
   "source": [
    "#Accessing using keys in it\n",
    "student['name'] #-->< Option 1 ><--#\n",
    "student.get('name')\n",
    "\n",
    "\n",
    "#Accessing the list of its key\n",
    "student['courses'][0]\n",
    "\n",
    "#Accessing the key which is not in our dictionary\n",
    "#student['country']                 #-->< Throws KeyError ><--#                  <--# -- Option 1 -- #\n",
    "student.get('country')              #-->< Returns None instead of KeyError >     <--# -- Option 2 -- #\n",
    "student.get('country', 'Not Found') #-->< Returns Not Found instead of KeyError ><--# -- Option 3 -- #"
   ]
  },
  {
   "cell_type": "markdown",
   "metadata": {},
   "source": [
    "##### 1C. Assignment and Updation of key"
   ]
  },
  {
   "cell_type": "code",
   "execution_count": 198,
   "metadata": {},
   "outputs": [
    {
     "name": "stdout",
     "output_type": "stream",
     "text": [
      "#-->< ============================================================ ><--#\n",
      "{'name': 'Zuckerberg', 'age': 36, 'gender': 'M', 'courses': ['Math', 'Science', 'CS'], 'phone': 4445556660, 'marital_status': True}\n",
      "#-->< ============================================================ ><--#\n"
     ]
    },
    {
     "data": {
      "text/plain": [
       "{'name': 'Zuckerberg',\n",
       " 'age': 36,\n",
       " 'gender': 'M',\n",
       " 'courses': ['Math', 'Science', 'CS'],\n",
       " 'phone': 4445556660,\n",
       " 'marital_status': True}"
      ]
     },
     "execution_count": 198,
     "metadata": {},
     "output_type": "execute_result"
    }
   ],
   "source": [
    "#Adding new key 'phone'\n",
    "student['phone'] = 4445556660\n",
    "\n",
    "#Updating the existing key's value\n",
    "student['age'] = 21\n",
    "\n",
    "#Updating/adding multiple keys using update method \n",
    "student.update({'name': 'Zuckerberg', 'age': 36, 'marital_status': True})\n",
    "student"
   ]
  },
  {
   "cell_type": "markdown",
   "metadata": {},
   "source": [
    "##### 1D. Deletion/Removal of keys from dictionary"
   ]
  },
  {
   "cell_type": "code",
   "execution_count": 174,
   "metadata": {},
   "outputs": [
    {
     "name": "stdout",
     "output_type": "stream",
     "text": [
      "Zuckerberg 4445556660\n"
     ]
    },
    {
     "data": {
      "text/plain": [
       "{'name': 'Zuckerberg',\n",
       " 'age': 36,\n",
       " 'gender': 'M',\n",
       " 'courses': ['Math', 'Science', 'CS']}"
      ]
     },
     "execution_count": 174,
     "metadata": {},
     "output_type": "execute_result"
    }
   ],
   "source": [
    "student\n",
    "#using del\n",
    "del student['marital_status'] #-->< Repeating/Executing again returns KeyError ><--#\n",
    "\n",
    "#using pop method - removes the key in place\n",
    "gender = student.pop('phone') #-->< Repeating/Executing again returns KeyError ><--#\n",
    "\n",
    "print(student['name'], gender)\n",
    "student"
   ]
  },
  {
   "cell_type": "markdown",
   "metadata": {},
   "source": [
    "##### 1.E Return the keys and values"
   ]
  },
  {
   "cell_type": "code",
   "execution_count": 192,
   "metadata": {},
   "outputs": [
    {
     "name": "stdout",
     "output_type": "stream",
     "text": [
      "#-->< ===================================================================================================== ><--#\n",
      "#-->< ------------------------------ Printed the output of dict.keys() below ------------------------------ ><--#\n",
      "#-->< ----------------------------------------------------------------------------------------------------- ><--#\n",
      "                |**key_list**| dict_keys(['name', 'age', 'gender', 'courses'])\n",
      "#-->< ===================================================================================================== ><--#\n",
      "\n",
      "#-->< ===================================================================================================== ><--#\n",
      "#-->< ----------------------------- Printed the output of dict.values() below ----------------------------- ><--#\n",
      "#-->< ----------------------------------------------------------------------------------------------------- ><--#\n",
      "                |**value_list**| dict_values(['Zuckerberg', 36, 'M', ['Math', 'Science', 'CS']])\n",
      "#-->< ===================================================================================================== ><--#\n",
      "\n",
      "#-->< ===================================================================================================== ><--#\n",
      "#-->< ------------------------------ Printed the output of dict.items() below ----------------------------- ><--#\n",
      "#-->< ----------------------------------------------------------------------------------------------------- ><--#\n",
      "|**items_list**| dict_items([('name', 'Zuckerberg'), ('age', 36), ('gender', 'M'), ('courses', ['Math', 'Science', 'CS'])])\n",
      "#-->< ===================================================================================================== ><--#\n"
     ]
    }
   ],
   "source": [
    "#Returning/Getting the keys of the dictionary\n",
    "keys = student.keys()\n",
    "\n",
    "#Returning/Getting the values of the dictionary\n",
    "values = student.values()\n",
    "\n",
    "#Returning/Getting the pairs of the dictionary into the tuples into a list\n",
    "items = student.items()\n",
    "\n",
    "print('#--><', ('='*101), '><--#')\n",
    "print('#--><', ('-'*30), 'Printed the output of dict.keys() below',  ('-'*30),'><--#')\n",
    "print('#--><', ('-'*101), '><--#')\n",
    "print((' ' * 15), '|**key_list**|', keys)\n",
    "print('#--><', ('='*101), '><--#')\n",
    "\n",
    "print()\n",
    "\n",
    "print('#--><', ('='*101), '><--#')\n",
    "print('#--><', ('-'*29), 'Printed the output of dict.values() below',  ('-'*29),'><--#')\n",
    "print('#--><', ('-'*101), '><--#')\n",
    "print((' ' * 15), '|**value_list**|', values)\n",
    "print('#--><', ('='*101), '><--#')\n",
    "\n",
    "print()\n",
    "\n",
    "print('#--><', ('='*101), '><--#')\n",
    "print('#--><', ('-'*30), 'Printed the output of dict.items() below',  ('-'*29),'><--#')\n",
    "print('#--><', ('-'*101), '><--#')\n",
    "print('|**items_list**|', items)\n",
    "print('#--><', ('='*101), '><--#')\n",
    "\n"
   ]
  },
  {
   "cell_type": "markdown",
   "metadata": {},
   "source": [
    "##### 1F. Looping through Dictionary"
   ]
  },
  {
   "cell_type": "code",
   "execution_count": 193,
   "metadata": {},
   "outputs": [
    {
     "name": "stdout",
     "output_type": "stream",
     "text": [
      "#-->< ============================================================ ><--#\n",
      "#-->< --------- Printed the keys of the dictionary below --------- ><--#\n",
      "#-->< ------------------------------------------------------------ ><--#\n",
      "        |**key**| name\n",
      "        |**key**| age\n",
      "        |**key**| gender\n",
      "        |**key**| courses\n",
      "#-->< ------------------------------------------------------------ ><--#\n",
      "#-->< --------------- All values of the dictionary --------------- ><--#\n",
      "#-->< ------------------------------------------------------------ ><--#\n",
      "        |**value**| Zuckerberg\n",
      "        |**value**| 36\n",
      "        |**value**| M\n",
      "        |**value**| ['Math', 'Science', 'CS']\n",
      "#-->< ------------------------------------------------------------ ><--#\n",
      "#-->< -- Printed all the keys &_ values of the dictionary below -- ><--#\n",
      "#-->< ------------------------------------------------------------ ><--#\n",
      "        |**key**| name |--><value><--| Zuckerberg\n",
      "        |**key**| age |--><value><--| 36\n",
      "        |**key**| gender |--><value><--| M\n",
      "        |**key**| courses |--><value><--| ['Math', 'Science', 'CS']\n",
      "#-->< ============================================================ ><--#\n"
     ]
    }
   ],
   "source": [
    "#To return all the keys using loop\n",
    "print('#--><', ('='*60), '><--#')\n",
    "print('#--><', ('-'*9), 'Printed the keys of the dictionary below', ('-'*9), '><--#')\n",
    "print('#--><', ('-'*60), '><--#')\n",
    "for key in student:\n",
    "    print((' ' * 7), '|**key**|',key)\n",
    "print('#--><', ('-'*60), '><--#')\n",
    "\n",
    "#To return all the values using loop\n",
    "print('#--><', ('-'*15),'All values of the dictionary', ('-'*15), '><--#')\n",
    "print('#--><', ('-'*60), '><--#')\n",
    "for value in student.values():\n",
    "    print((' ' * 7), '|**value**|', value)\n",
    "print('#--><', ('-'*60), '><--#')\n",
    "\n",
    "\n",
    "#Returning the keys and values using items method\n",
    "print('#--><', ('-'*2), 'Printed all the keys &_ values of the dictionary below', ('-'*2),'><--#')\n",
    "print('#--><', ('-'*60), '><--#')\n",
    "for key, value in student.items():\n",
    "    print((' ' * 7), '|**key**|',key, '|--><value><--|', value)\n",
    "print('#--><', ('='*60), '><--#')"
   ]
  }
 ],
 "metadata": {
  "kernelspec": {
   "display_name": "Python 3",
   "language": "python",
   "name": "python3"
  },
  "language_info": {
   "codemirror_mode": {
    "name": "ipython",
    "version": 3
   },
   "file_extension": ".py",
   "mimetype": "text/x-python",
   "name": "python",
   "nbconvert_exporter": "python",
   "pygments_lexer": "ipython3",
   "version": "3.11.4"
  }
 },
 "nbformat": 4,
 "nbformat_minor": 2
}
