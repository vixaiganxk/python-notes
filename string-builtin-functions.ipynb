{
 "cells": [
  {
   "cell_type": "markdown",
   "metadata": {},
   "source": [
    "# Python Basics\n",
    "## **String**  - Built-in Functions"
   ]
  },
  {
   "cell_type": "code",
   "execution_count": 9,
   "metadata": {},
   "outputs": [],
   "source": [
    "#Input String variable\n",
    "name = ' CaNaDa vaniLLa '\n",
    "\n",
    "capital = name.capitalize()\n",
    "swap = name.swapcase()\n",
    "low = name.lower()\n",
    "upp = name.upper()\n",
    "rep = name.replace('a', 'O')\n",
    "jn = name.casefold()\n",
    "tit_ = name.title()\n",
    "spl = name.split()\n",
    "\n",
    "#strip functions\n",
    "strp = name.strip()\n",
    "lstrp = name.lstrip()\n",
    "rstrp = name.rstrip()\n",
    "\n",
    "#partition functions\n",
    "par = name.partition('a') #--> Look for first Occurrence <--#\n",
    "rpar = name.rpartition('a') #--> Look for first Occurrence <--#\n",
    "\n",
    "\n",
    "#Startswith and endswith function\n",
    "endswith_false = name.endswith('N')\n",
    "endswith_true = name.endswith(' ')\n",
    "startswith_true = name.startswith(' ')\n",
    "startswith_false = name.startswith('C')\n",
    "\n",
    "#output functions\n",
    "def stringblock():\n",
    "    print('#--><', ('='*98), '><--#')\n",
    "    print('#--><', ('-'*35), 'String - Builtin Functions',('-'*35),'><--#')\n",
    "    print('#--><', ('='*98), '><--#')\n",
    "\n",
    "def line():\n",
    "    print('#--><', ('='*98), '><--#')\n"
   ]
  },
  {
   "cell_type": "markdown",
   "metadata": {},
   "source": [
    "### Output Code Blocks - **String**"
   ]
  },
  {
   "cell_type": "code",
   "execution_count": 10,
   "metadata": {},
   "outputs": [
    {
     "name": "stdout",
     "output_type": "stream",
     "text": [
      "#-->< ================================================================================================== ><--#\n",
      "#-->< ----------------------------------- String - Builtin Functions ----------------------------------- ><--#\n",
      "#-->< ================================================================================================== ><--#\n",
      "      |---- Input string ----| -------------- ' CaNaDa vaniLLa ' -------------- |---- Input string ----|      \n",
      "      |-- str.capitalize() --| -------------- ' canada vanilla ' -------------- |-- str.capitalize() --|      \n",
      "      |--- str.swapcase() ---| -------------- ' cAnAdA VANIllA ' -------------- |--- str.swapcase() ---|      \n",
      "      |----  str.lower() ----| -------------- ' canada vanilla ' -------------- |----  str.lower() ----|      \n",
      "      |----  str.upper() ----| -------------- ' CANADA VANILLA ' -------------- |----  str.upper() ----|      \n",
      "      |---  str.replace() ---| -------------- ' CONODO vOniLLO ' -------------- |---  str.replace() ---|      \n",
      "      |----  str.join()  ----| -------------- ' canada vanilla ' -------------- |----  str.join()  ----|      \n",
      "      |----  str.title() ----| -------------- ' Canada Vanilla ' -------------- |----  str.title() ----|      \n",
      "#-->< ================================================================================================== ><--#\n"
     ]
    }
   ],
   "source": [
    "\n",
    "# Block to print the output in the terminal\n",
    "stringblock()\n",
    "print((' ' * 5), '|---- Input string ----|', ('-'*14), repr(name), ('-'*14),'|---- Input string ----|', (' ' * 5))\n",
    "print((' ' * 5), '|-- str.capitalize() --|', ('-'*14), repr(capital), ('-'*14),'|-- str.capitalize() --|', (' ' * 5))\n",
    "print((' ' * 5), '|--- str.swapcase() ---|', ('-'*14), repr(swap), ('-'*14),'|--- str.swapcase() ---|', (' ' * 5))\n",
    "print((' ' * 5), '|----  str.lower() ----|', ('-'*14), repr(low), ('-'*14),'|----  str.lower() ----|', (' ' * 5))\n",
    "print((' ' * 5), '|----  str.upper() ----|', ('-'*14), repr(upp), ('-'*14),'|----  str.upper() ----|', (' ' * 5))\n",
    "print((' ' * 5), '|---  str.replace() ---|', ('-'*14), repr(rep), ('-'*14),'|---  str.replace() ---|', (' ' * 5))\n",
    "print((' ' * 5), '|----  str.join()  ----|', ('-'*14), repr(jn), ('-'*14),'|----  str.join()  ----|', (' ' * 5))\n",
    "print((' ' * 5), '|----  str.title() ----|', ('-'*14), repr(tit_), ('-'*14),'|----  str.title() ----|', (' ' * 5))\n",
    "line()\n"
   ]
  },
  {
   "cell_type": "code",
   "execution_count": 11,
   "metadata": {},
   "outputs": [
    {
     "name": "stdout",
     "output_type": "stream",
     "text": [
      "#-->< ================================================================================================== ><--#\n",
      "#-->< ----------------------------------- String - Builtin Functions ----------------------------------- ><--#\n",
      "#-->< ================================================================================================== ><--#\n",
      "#-->< ------------------------------------- strip, rstrip, lstrip  ------------------------------------- ><--#\n",
      "#-->< ================================================================================================== ><--#\n",
      "      |---- Input string ----| -------------- ' CaNaDa vaniLLa ' -------------- |---- Input string ----|      \n",
      "      |----  str.strip() ----| -------------- 'CaNaDa vaniLLa' -------------- |----  str.strip() ----|      \n",
      "      |---- str.lstrip() ----| -------------- 'CaNaDa vaniLLa ' -------------- |---- str.lstrip() ----|      \n",
      "      |---- str.rstrip() ----| -------------- ' CaNaDa vaniLLa' -------------- |---- str.rstrip() ----|      \n",
      "#-->< ================================================================================================== ><--#\n"
     ]
    }
   ],
   "source": [
    "stringblock()\n",
    "print('#--><', ('-'*37), 'strip, rstrip, lstrip ', ('-'*37), '><--#')\n",
    "line()\n",
    "print((' ' * 5), '|---- Input string ----|', ('-'*14), repr(name), ('-'*14),'|---- Input string ----|', (' ' * 5))\n",
    "print((' ' * 5), '|----  str.strip() ----|', ('-'*14), repr(strp), ('-'*14),'|----  str.strip() ----|', (' ' * 5))\n",
    "print((' ' * 5), '|---- str.lstrip() ----|', ('-'*14), repr(lstrp), ('-'*14),'|---- str.lstrip() ----|', (' ' * 5))\n",
    "print((' ' * 5), '|---- str.rstrip() ----|', ('-'*14), repr(rstrp), ('-'*14),'|---- str.rstrip() ----|', (' ' * 5))\n",
    "line()\n"
   ]
  },
  {
   "cell_type": "code",
   "execution_count": 12,
   "metadata": {},
   "outputs": [
    {
     "name": "stdout",
     "output_type": "stream",
     "text": [
      "#-->< ================================================================================================== ><--#\n",
      "#-->< ----------------------------------- String - Builtin Functions ----------------------------------- ><--#\n",
      "#-->< ================================================================================================== ><--#\n",
      "#-->< ------------------------------------- partition, rpartition  ------------------------------------- ><--#\n",
      "#-->< ================================================================================================== ><--#\n",
      "      |---- Input string ----| -------------- ' CaNaDa vaniLLa ' -------------- |---- Input string ----|      \n",
      "      |-- str.partition()  --| --------- (' C', 'a', 'NaDa vaniLLa ') --------- |-- str.partition()  --|      \n",
      "      |-- str.rpartition() --| --------- (' CaNaDa vaniLL', 'a', ' ') --------- |-- str.rpartition() --|      \n",
      "#-->< ================================================================================================== ><--#\n"
     ]
    }
   ],
   "source": [
    "stringblock()\n",
    "print('#--><', ('-'*37), 'partition, rpartition ', ('-'*37), '><--#')\n",
    "line()\n",
    "print((' ' * 5), '|---- Input string ----|', ('-'*14), repr(name), ('-'*14),'|---- Input string ----|', (' ' * 5))\n",
    "print((' ' * 5), '|-- str.partition()  --|', ('-'*9), repr(par), ('-'*9),'|-- str.partition()  --|', (' ' * 5))\n",
    "print((' ' * 5), '|-- str.rpartition() --|', ('-'*9), repr(rpar), ('-'*9),'|-- str.rpartition() --|', (' ' * 5))\n",
    "line()"
   ]
  },
  {
   "cell_type": "code",
   "execution_count": 13,
   "metadata": {},
   "outputs": [
    {
     "name": "stdout",
     "output_type": "stream",
     "text": [
      "#-->< ================================================================================================== ><--#\n",
      "#-->< ----------------------------------- String - Builtin Functions ----------------------------------- ><--#\n",
      "#-->< ================================================================================================== ><--#\n",
      "#-->< -------------------------------------- startswith, endswith -------------------------------------- ><--#\n",
      "#-->< ================================================================================================== ><--#\n",
      "      |---- Input string ----| ------------- ' CaNaDa vaniLLa ' ------------ |----- Input string ------|      \n",
      "      |-- str.startswith() --| ------------------- False ------------------- |-- str.startswith('C') --|      \n",
      "      |--- str.endswith() ---| -------------------- True ------------------- |--- str.endswith(' ') ---|      \n",
      "      |-- str.startswith() --| -------------------- True ------------------- |-- str.startswith(' ') --|      \n",
      "      |--- str.endswith() ---| ------------------- False ------------------- |--- str.endswith('N') ---|      \n",
      "#-->< ================================================================================================== ><--#\n"
     ]
    }
   ],
   "source": [
    "stringblock()\n",
    "print('#--><', ('-'*38), 'startswith, endswith', ('-'*38), '><--#')\n",
    "line()\n",
    "print((' ' * 5), '|---- Input string ----|', ('-'*13), repr(name), ('-'*12),'|----- Input string ------|', (' ' * 5))\n",
    "print((' ' * 5), '|-- str.startswith() --|', ('-'*19), repr(startswith_false), ('-'*19),\"|-- str.startswith('C') --|\", (' ' * 5))\n",
    "print((' ' * 5), '|--- str.endswith() ---|', ('-'*20), repr(endswith_true), ('-'*19),\"|--- str.endswith(' ') ---|\", (' ' * 5))\n",
    "print((' ' * 5), '|-- str.startswith() --|', ('-'*20), repr(startswith_true), ('-'*19),\"|-- str.startswith(' ') --|\", (' ' * 5))\n",
    "print((' ' * 5), '|--- str.endswith() ---|', ('-'*19), repr(endswith_false), ('-'*19),\"|--- str.endswith('N') ---|\", (' ' * 5))\n",
    "line()"
   ]
  }
 ],
 "metadata": {
  "kernelspec": {
   "display_name": "Python 3",
   "language": "python",
   "name": "python3"
  },
  "language_info": {
   "codemirror_mode": {
    "name": "ipython",
    "version": 3
   },
   "file_extension": ".py",
   "mimetype": "text/x-python",
   "name": "python",
   "nbconvert_exporter": "python",
   "pygments_lexer": "ipython3",
   "version": "3.11.4"
  }
 },
 "nbformat": 4,
 "nbformat_minor": 2
}
