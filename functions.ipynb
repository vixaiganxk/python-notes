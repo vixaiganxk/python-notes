{
 "cells": [
  {
   "cell_type": "markdown",
   "metadata": {},
   "source": [
    "# Funtions\n",
    "- Functions are blocks of reusable code that perform a specific task."
   ]
  },
  {
   "cell_type": "markdown",
   "metadata": {},
   "source": [
    "#### 1. Creating a function\n",
    "- **def** - used to define a function.\n",
    "- **pass** - placeholder to add future code(null operation)."
   ]
  },
  {
   "cell_type": "code",
   "execution_count": 18,
   "metadata": {},
   "outputs": [
    {
     "name": "stdout",
     "output_type": "stream",
     "text": [
      "None\n"
     ]
    }
   ],
   "source": [
    "#Struct of an empty function.\n",
    "def ownFunction():\n",
    "    pass\n",
    "\n",
    "print(ownFunction())\n"
   ]
  },
  {
   "cell_type": "markdown",
   "metadata": {},
   "source": [
    "#### 2. Function with single argument"
   ]
  },
  {
   "cell_type": "code",
   "execution_count": null,
   "metadata": {},
   "outputs": [],
   "source": [
    "#function with return statement\n",
    "def welcome_note(name):         #-> name is parameter to perform this function\n",
    "    return f'Hello {name}!, Welcome to welcome_note!!!'\n",
    "\n",
    "\n",
    "#calling a function to perform/execute the code in it\n",
    "result = welcome_note('Mark')            \n",
    "\n",
    "'''\n",
    "#-> 'Mark' is an argument for the parameter 'name'\n",
    "#-> return value of a the function welcome_note('Mark') is assigned to 'result'\n",
    "#-> 'result' can accessed anywhere\n",
    "'''\n",
    "\n",
    "\n",
    "#---------------------->< Output Block ><-----------------------#\n",
    "print('#--><|', ('='*80), '|><--#')\n",
    "print((' ' * 8), 'Output from the function : ', '|-><', result, '><-|')\n",
    "print('#--><|', ('='*80), '|><--#')"
   ]
  },
  {
   "cell_type": "markdown",
   "metadata": {},
   "source": [
    "#### 3. Vote Eligibility function with 2 arguments with typehints"
   ]
  },
  {
   "cell_type": "code",
   "execution_count": 22,
   "metadata": {},
   "outputs": [
    {
     "name": "stdout",
     "output_type": "stream",
     "text": [
      "Hello Mark!, Welcome to vote eligible calculator!!!\n",
      "#--><| ================================================================================ |><--#\n",
      "         Vote Eligibilty of an individual   : True\n",
      "         Eligibility Note for an individual : |->< [\"You're eligible to vote\"] ><-|\n",
      "#--><| ================================================================================ |><--#\n"
     ]
    }
   ],
   "source": [
    "#function with dual parameter and print statement\n",
    "def voteEligibility(name: str, age: int) -> bool:         #-> name is parameter to perform this function\n",
    "    print(f'Hello {name}!, Welcome to vote eligible calculator!!!')\n",
    "    return age >= 18\n",
    "\n",
    "'''\n",
    "#-> Typehint - (name: str), (age: int) - used for code readability and datatype verification.\n",
    "#-> (-> bool:) - Return Typehint - return value should be of bool type\n",
    "'''\n",
    "\n",
    "\n",
    "#-------------------------------->< Input Block ><---------------------------------#\n",
    "if __name__ == '__main__':\n",
    "#calling a function to perform/execute the code in it\n",
    "    individuals_name, individuals_age = 'Mark', 25\n",
    "    result = voteEligibility(individuals_name, individuals_age)\n",
    "\n",
    "'''\n",
    "#-> 'Mark' and 25 are argument for the parameter 'name' and 'age'.\n",
    "#-> return value of a the function voteEligibility('Mark', 25) is assigned to 'result' variable.\n",
    "'''\n",
    "\n",
    "\n",
    "#-------------------------------->< Output Block ><---------------------------------#\n",
    "print('#--><|', ('='*80), '|><--#')\n",
    "print((' ' * 8), 'Vote Eligibilty of an individual   :', result) \n",
    "print((' ' * 8), 'Eligibility Note for an individual :', '|-><', ['You\\'re eligible to vote' if result else 'Sorry, you\\'re not permitted to vote.'], '><-|')\n",
    "print('#--><|', ('='*80), '|><--#')"
   ]
  },
  {
   "cell_type": "markdown",
   "metadata": {},
   "source": [
    "#### 4. Function with *args and **kwargs"
   ]
  },
  {
   "cell_type": "markdown",
   "metadata": {},
   "source": [
    "##### Case: 01 - As separate values of arguments and key-word arguments passed into the function."
   ]
  },
  {
   "cell_type": "code",
   "execution_count": 37,
   "metadata": {},
   "outputs": [
    {
     "name": "stdout",
     "output_type": "stream",
     "text": [
      "#--><| ========================================================================================================= |><--#\n",
      "       All arguments passed into the Student_info         : ('Mechanical', 'II', 'C', 'Math')\n",
      "       All key-word arguments passed into the Student_info: {'name': 'Elon', 'age': '25', 'city': 'Bengaluru'}\n",
      "#--><| ========================================================================================================= |><--#\n"
     ]
    }
   ],
   "source": [
    "#Student_info function with parameters of *args and *kwargs\n",
    "def Student_info(*args, **kwargs):\n",
    "    #print(args)\n",
    "    #print(kwargs)\n",
    "    return args, kwargs\n",
    "\n",
    "#-------------------------------->< Input Block ><---------------------------------#\n",
    "if __name__ == '__main__':\n",
    "#calling a function to perform/execute the code in it\n",
    "    res = Student_info('Mechanical', 'II', 'C', 'Math', name='Elon', age='25', city='Bengaluru')\n",
    "\n",
    "'''\n",
    "-> #Returns the args in tuple with all arguments - print(args)\n",
    "-> #Returns key-word arguments(kwargs) in a dictionary of all - print(kwargs)\n",
    "'''\n",
    "\n",
    "#repr(Student_info)\n",
    "#-------------------------------->< Output Block ><---------------------------------#\n",
    "print('#--><|', ('='*105), '|><--#')\n",
    "print((' ' * 6), 'All arguments passed into the Student_info         :', res[0])\n",
    "print((' ' * 6), 'All key-word arguments passed into the Student_info:', res[1])  \n",
    "print('#--><|', ('='*105), '|><--#')"
   ]
  },
  {
   "cell_type": "markdown",
   "metadata": {},
   "source": [
    "##### Case: 02  - Passing list and dictionary as argument and key-word argument into the function."
   ]
  },
  {
   "cell_type": "code",
   "execution_count": 38,
   "metadata": {},
   "outputs": [
    {
     "name": "stdout",
     "output_type": "stream",
     "text": [
      "#--><| ========================================================================================================= |><--#\n",
      "       All arguments passed into the Student_info         : (['Mechanical', 'II', 'C', 'Math'], {'name': 'Elon', 'age': 25, 'city': 'Bengaluru'})\n",
      "       All key-word arguments passed into the Student_info: {}\n",
      "#--><| ========================================================================================================= |><--#\n"
     ]
    }
   ],
   "source": [
    "#Student_info function with parameters of *args and *kwargs\n",
    "def Student_info(*args, **kwargs):\n",
    "    #print(args)\n",
    "    #print(kwargs)\n",
    "    return args, kwargs\n",
    "\n",
    "#-------------------------------->< Input Block ><---------------------------------#\n",
    "if __name__ == '__main__':\n",
    "#calling a function to perform/execute the code in it\n",
    "    dept_details = ['Mechanical', 'II', 'C', 'Math']\n",
    "    stud_details = {'name': 'Elon', 'age':25, 'city': 'Bengaluru'}\n",
    "    res = Student_info(dept_details, stud_details)\n",
    "\n",
    "'''\n",
    "-> #Both the variables dept_details and stud_details taken as a single argument and comprised in a tuple\n",
    "-> #Null dictinary is created due to no argument as key-value argument\n",
    "'''\n",
    "\n",
    "#repr(Student_info)\n",
    "#-------------------------------->< Output Block ><---------------------------------#\n",
    "print('#--><|', ('='*105), '|><--#')\n",
    "print((' ' * 6), 'All arguments passed into the Student_info         :', res[0])\n",
    "print((' ' * 6), 'All key-word arguments passed into the Student_info:', res[1])  \n",
    "print('#--><|', ('='*105), '|><--#')"
   ]
  },
  {
   "cell_type": "markdown",
   "metadata": {},
   "source": []
  },
  {
   "cell_type": "code",
   "execution_count": 39,
   "metadata": {},
   "outputs": [
    {
     "name": "stdout",
     "output_type": "stream",
     "text": [
      "#--><| ========================================================================================================= |><--#\n",
      "       All arguments passed into the Student_info         : ('Mechanical', 'II', 'C', 'Math')\n",
      "       All key-word arguments passed into the Student_info: {'name': 'Elon', 'age': 25, 'city': 'Bengaluru'}\n",
      "#--><| ========================================================================================================= |><--#\n"
     ]
    }
   ],
   "source": [
    "#Student_info function with parameters of *args and *kwargs\n",
    "def Student_info(*args, **kwargs):\n",
    "    #print(args)\n",
    "    #print(kwargs)\n",
    "    return args, kwargs\n",
    "\n",
    "#-------------------------------->< Input Block ><---------------------------------#\n",
    "if __name__ == '__main__':\n",
    "#calling a function to perform/execute the code in it\n",
    "    dept_details = ['Mechanical', 'II', 'C', 'Math']\n",
    "    stud_details = {'name': 'Elon', 'age':25, 'city': 'Bengaluru'}\n",
    "    res = Student_info(*dept_details, **stud_details)\n",
    "\n",
    "'''\n",
    "-> #Both the variables dept_details and stud_details passed with asterick as unpacking\n",
    "-> #So, it's considered as Case-01 \n",
    "'''\n",
    "\n",
    "#repr(Student_info)\n",
    "#-------------------------------->< Output Block ><---------------------------------#\n",
    "print('#--><|', ('='*105), '|><--#')\n",
    "print((' ' * 6), 'All arguments passed into the Student_info         :', res[0])\n",
    "print((' ' * 6), 'All key-word arguments passed into the Student_info:', res[1])  \n",
    "print('#--><|', ('='*105), '|><--#')"
   ]
  }
 ],
 "metadata": {
  "kernelspec": {
   "display_name": "Python 3",
   "language": "python",
   "name": "python3"
  },
  "language_info": {
   "codemirror_mode": {
    "name": "ipython",
    "version": 3
   },
   "file_extension": ".py",
   "mimetype": "text/x-python",
   "name": "python",
   "nbconvert_exporter": "python",
   "pygments_lexer": "ipython3",
   "version": "3.12.1"
  }
 },
 "nbformat": 4,
 "nbformat_minor": 2
}
