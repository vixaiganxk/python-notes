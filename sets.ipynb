{
 "cells": [
  {
   "cell_type": "markdown",
   "metadata": {},
   "source": [
    "# Python Basics"
   ]
  },
  {
   "cell_type": "markdown",
   "metadata": {},
   "source": [
    "## 1. Sets"
   ]
  },
  {
   "cell_type": "markdown",
   "metadata": {},
   "source": [
    "##### Definition\n",
    "- Removes duplicate and have unordered format of elements inside a curly-brace.\n",
    "- It's heterogeneous data-type and it's mutable.\n",
    "- Big-O-Notation - O(1) Order"
   ]
  },
  {
   "cell_type": "markdown",
   "metadata": {},
   "source": [
    "##### 1A. Creation of Sets"
   ]
  },
  {
   "cell_type": "code",
   "execution_count": 6,
   "metadata": {},
   "outputs": [
    {
     "data": {
      "text/plain": [
       "{1, 2, 5, 6, 7, 9, 10}"
      ]
     },
     "execution_count": 6,
     "metadata": {},
     "output_type": "execute_result"
    }
   ],
   "source": [
    "# Creating a simple set\n",
    "s1 = {1, 2, 3}\n",
    "\n",
    "#List to set type-conversion\n",
    "s2 = set([5,6,7])\n",
    "\n",
    "#Heterogeneous nature\n",
    "s3 = {1,2,3.456, 'vijay', 7.98, 7.99}\n",
    "s3\n",
    "\n",
    "#Unique elements\n",
    "s4 = {1,2,5,7,9,10,10,6,6,5}      #-->< Output - {1,2,5,6,7,9,10} ><--#\n",
    "s4\n"
   ]
  },
  {
   "cell_type": "markdown",
   "metadata": {},
   "source": [
    "##### 1B. Addition and Updation of sets"
   ]
  },
  {
   "cell_type": "code",
   "execution_count": 9,
   "metadata": {},
   "outputs": [
    {
     "data": {
      "text/plain": [
       "{1, 2, 3, 7, 9, 10, 11, 90, 99, 100, 125, 155}"
      ]
     },
     "execution_count": 9,
     "metadata": {},
     "output_type": "execute_result"
    }
   ],
   "source": [
    "s1 = {1,2,3}\n",
    "s2 = {100,125,155}\n",
    "#add function - only accept single element\n",
    "s1.add(7)                     #--Output>< {1,2,3,7} ><--#\n",
    "\n",
    "#Update function - a list or set can be updated\n",
    "s1.update([9,10,11,7,3,2,1])  #--Output>< {1,2,3,7,9,10,11} ><--#\n",
    "\n",
    "s1.update([99,90], s2)  #-->< {1, 2, 3, 7, 9, 10, 11, 90, 99, 100, 155, 125} ><--#\n",
    "s1"
   ]
  },
  {
   "cell_type": "markdown",
   "metadata": {},
   "source": [
    "##### 1C. Removal and Discard"
   ]
  },
  {
   "cell_type": "code",
   "execution_count": 12,
   "metadata": {},
   "outputs": [
    {
     "data": {
      "text/plain": [
       "{1, 2, 3, 4, 7}"
      ]
     },
     "execution_count": 12,
     "metadata": {},
     "output_type": "execute_result"
    }
   ],
   "source": [
    "s1 = {1,2,3,4,5,6,7}\n",
    "\n",
    "#Remove function\n",
    "s1.remove(6)  #-->< Output - {1,2,3,4,5,7} ><--#\n",
    "#s1.remove(6) #-->< KeyError - 6 is removed and not in set s1 ><--#\n",
    "\n",
    "#Discard\n",
    "s1.discard(5) #-->< Output - {1,2,3,4,7} ><--#\n",
    "s1.discard(5) #-->< No Error upon second execution of the same element '5' ><--#\n",
    "s1\n"
   ]
  },
  {
   "cell_type": "markdown",
   "metadata": {},
   "source": [
    "##### 1D. Intersection\n",
    "- Returns the common elements between two/more sets"
   ]
  },
  {
   "cell_type": "code",
   "execution_count": null,
   "metadata": {},
   "outputs": [
    {
     "data": {
      "text/plain": [
       "{3}"
      ]
     },
     "execution_count": 96,
     "metadata": {},
     "output_type": "execute_result"
    }
   ],
   "source": [
    "s1 = {1,2,3}\n",
    "s2 = {2,3,4}\n",
    "s3 = {3,4,5}\n",
    "\n",
    "#Intersection of two sets - Common element(s) out of two\n",
    "s4 = s1.intersection(s2) #-->< Output - {2,3} ><--#\n",
    "\n",
    "#----->Alternate for two sets<-----#\n",
    "s1 & s2 #-->< Output - {2,3} ><--#\n",
    "\n",
    "\n",
    "#Intersection of three sets - Common element(s) out of three\n",
    "s1.intersection(s2, s3) #-->< Output - {3} ><--#\n",
    "\n",
    "#----->Alternate for two sets<-----#\n",
    "s1 & s2  & s3#-->< Output - {3} ><--#"
   ]
  },
  {
   "cell_type": "markdown",
   "metadata": {},
   "source": [
    "##### 1E. Difference\n",
    "- Finds the elements in present which is not in the next set."
   ]
  },
  {
   "cell_type": "code",
   "execution_count": null,
   "metadata": {},
   "outputs": [
    {
     "data": {
      "text/plain": [
       "{5}"
      ]
     },
     "execution_count": 71,
     "metadata": {},
     "output_type": "execute_result"
    }
   ],
   "source": [
    "s1 = {1,2,3}\n",
    "s2 = {2,3,4}\n",
    "s3 = {3,4,5}\n",
    "\n",
    "#----->< Two Sets operation ><-----#\n",
    "s1.difference(s3) #-->< Output - {1, 2} ><--#\n",
    "#-->< Alternate >--#\n",
    "s1 - s3\n",
    "\n",
    "\n",
    "s3.difference(s1) #-->< Output - {4, 5} ><--#\n",
    "#-->< Alternate >--#\n",
    "s3 - s1\n",
    "\n",
    "\n",
    "#----->< Three Sets operation ><-----#\n",
    "s1.difference(s2, s3) #-->< Output - {1} ><--#\n",
    "#-->< Alternate >--#\n",
    "s1 - s2 - s3\n",
    "\n",
    "s3.difference(s1, s2) #-->< Output - {5} ><--#\n",
    "#-->< Alternate >--#\n",
    "s3 - s2 - s1"
   ]
  },
  {
   "cell_type": "markdown",
   "metadata": {},
   "source": [
    "##### 1F. Symmetric Difference\n",
    "- Removes the common values in the sets and return the remaining values in the set."
   ]
  },
  {
   "cell_type": "code",
   "execution_count": null,
   "metadata": {},
   "outputs": [
    {
     "data": {
      "text/plain": [
       "{1, 3, 5}"
      ]
     },
     "execution_count": 94,
     "metadata": {},
     "output_type": "execute_result"
    }
   ],
   "source": [
    "s1 = {1,2,3}\n",
    "s2 = {2,3,4}\n",
    "s3 = {3,4,5}\n",
    "\n",
    "#----->< Two Sets operation ><-----#\n",
    "s1.symmetric_difference(s3) #-->< Output - {1, 2, 4, 5} ><--#\n",
    "#-->< Alternate >--#\n",
    "s1 ^ s3\n",
    "\n",
    "s2.symmetric_difference(s3) #-->< Output - {2, 5} ><--#\n",
    "#-->< Alternate >--#\n",
    "s2 ^ s3\n",
    "\n",
    "#More set operations for symmetric difference\n",
    "s1 ^ s2 ^ s3 #-->< Output - {1, 3, 5} ><--#"
   ]
  },
  {
   "cell_type": "markdown",
   "metadata": {},
   "source": [
    "##### 1G. Union\n",
    "- Removes the duplicates and combines two/more sets"
   ]
  },
  {
   "cell_type": "code",
   "execution_count": null,
   "metadata": {},
   "outputs": [
    {
     "data": {
      "text/plain": [
       "{1, 2, 3, 4, 5}"
      ]
     },
     "execution_count": 102,
     "metadata": {},
     "output_type": "execute_result"
    }
   ],
   "source": [
    "s1 = {1,2,3}\n",
    "s2 = {2,3,4}\n",
    "s3 = {3,4,5}\n",
    "\n",
    "#----->< Two Sets operation ><-----#\n",
    "s1.union(s2) #-->< Output - {1, 2, 3, 4} ><--#\n",
    "#-->< Alternate >--#\n",
    "s1 | s2\n",
    "\n",
    "#----->< Three Sets operation ><-----#\n",
    "s1.union(s2, s3) #-->< Output - {1, 2, 3, 4, 5} ><--#\n",
    "#-->< Alternate >--#\n",
    "s1 | s2 | s3"
   ]
  }
 ],
 "metadata": {
  "kernelspec": {
   "display_name": "Python 3",
   "language": "python",
   "name": "python3"
  },
  "language_info": {
   "codemirror_mode": {
    "name": "ipython",
    "version": 3
   },
   "file_extension": ".py",
   "mimetype": "text/x-python",
   "name": "python",
   "nbconvert_exporter": "python",
   "pygments_lexer": "ipython3",
   "version": "3.11.4"
  }
 },
 "nbformat": 4,
 "nbformat_minor": 2
}
