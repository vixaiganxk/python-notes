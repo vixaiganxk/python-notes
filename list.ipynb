{
 "cells": [
  {
   "cell_type": "markdown",
   "metadata": {},
   "source": [
    "# Python Basics\n",
    "\n",
    "## 1. List\n",
    "##### Definition\n",
    "- Stores the elements of various data types inside a square-bracket [].\n",
    "- Can also store list of lists.\n",
    "- Big-O-Notation - O(n) order. "
   ]
  },
  {
   "cell_type": "markdown",
   "metadata": {},
   "source": [
    "##### 1A. Creation of lists"
   ]
  },
  {
   "cell_type": "code",
   "execution_count": 21,
   "metadata": {},
   "outputs": [
    {
     "name": "stdout",
     "output_type": "stream",
     "text": [
      "#-->< ================================================================================ ><--#\n",
      "      Integer List:  [1, 2, 3, 4, 5]\n",
      "#-->< ================================================================================ ><--#\n",
      "      String/Char List:  ['a', 'b', 'c', 'd']\n",
      "#-->< ================================================================================ ><--#\n",
      "      Heterogeneous List:  [1, 2, (1, 'a'), 'list', 'd', {'name': 'Mark'}, [1, 6, 7]]\n",
      "#-->< ================================================================================ ><--#\n",
      "      String to Char(List) ['H', 'e', 'l', 'l', 'o', ' ', 'W', 'o', 'r', 'l', 'd', '!']\n",
      "#-->< ================================================================================ ><--#\n"
     ]
    }
   ],
   "source": [
    "#Normal list \n",
    "first = [1,2,3,4,5]                           #--><    int    ><--#\n",
    "second = ['a', 'b', 'c', 'd']                 #--><    char   ><--#\n",
    "third = [1,2,(1,'a'),'list', 'd', {'name': 'Mark'},[1,6,7]]      #-->< all types ><--#\n",
    "\n",
    "#using range\n",
    "numbers_19 = list(range(20))                  #--><0,1,...18,19><--#\n",
    "\n",
    "#String to List\n",
    "chars = list('Hello World!')        #-->< Splits all the characters into single element ><--#\n",
    "\n",
    "#zeros\n",
    "zeros = [0] * 50           #-->< List of 50 zeros ><--#\n",
    "\n",
    "\n",
    "#print('#--><', ('-'*2), 'Printed all the keys &_ values of the dictionary below', ('-'*2),'><--#')\n",
    "print('#--><', ('='*80), '><--#')\n",
    "print((' ' * 5), 'Integer List: ', first)\n",
    "print('#--><', ('='*80), '><--#')\n",
    "print((' ' * 5), 'String/Char List: ', second)\n",
    "print('#--><', ('='*80), '><--#')\n",
    "print((' ' * 5), 'Heterogeneous List: ', third)\n",
    "print('#--><', ('='*80), '><--#')\n",
    "print((' ' * 5), 'String to Char(List)', chars)\n",
    "print('#--><', ('='*80), '><--#')"
   ]
  },
  {
   "cell_type": "markdown",
   "metadata": {},
   "source": [
    "## 2. List operations"
   ]
  },
  {
   "cell_type": "markdown",
   "metadata": {},
   "source": [
    "##### 2A. Length of list"
   ]
  },
  {
   "cell_type": "code",
   "execution_count": 17,
   "metadata": {},
   "outputs": [
    {
     "data": {
      "text/plain": [
       "5"
      ]
     },
     "execution_count": 17,
     "metadata": {},
     "output_type": "execute_result"
    }
   ],
   "source": [
    "#Length of list\n",
    "len_first = len(first)  #--> Output - 5 ><--#\n",
    "len_first"
   ]
  },
  {
   "cell_type": "markdown",
   "metadata": {},
   "source": [
    "##### 2B. Accessing a list"
   ]
  },
  {
   "cell_type": "code",
   "execution_count": 46,
   "metadata": {},
   "outputs": [
    {
     "data": {
      "text/plain": [
       "[19, 18, 17, 16, 15, 14, 13, 12, 11, 10, 9, 8, 7, 6, 5, 4, 3, 2, 1, 0]"
      ]
     },
     "execution_count": 46,
     "metadata": {},
     "output_type": "execute_result"
    }
   ],
   "source": [
    "#Using positive index\n",
    "first[3]            #-->< Output - 4 ><--#\n",
    "\n",
    "#Using negative index - iterate from the last.\n",
    "first[-2]           #-->< Output - 4 ><--#\n",
    "\n",
    "#Slicing operation\n",
    "first[0:3]         #-->< Output - [1,2,3] ><--#\n",
    "#---> Alternate <---#\n",
    "first[:3]          #-->< Output-[1,2,3,4] ><--#\n",
    "\n",
    "#Slicing operation\n",
    "first[2:5]         #-->< Output - [3,4,5] ><--#\n",
    "#---> Alternate <---#\n",
    "first[2:]          #-->< Output - [3,4,5] ><--#\n",
    "\n",
    "\n",
    "#Copy the exact list\n",
    "first[:]        #-->< Output - [1,2,3,4,5] ><--#\n",
    "\n",
    "#To iterate over the nth numbers\n",
    "second = list(range(20))\n",
    "second[::3] #-->< Output - [0,3,6,9,12,15,18] ><--#-->< Iterates over the multiples of 3 indexes ><--#\n",
    "\n",
    "#Revering a list\n",
    "second[::-1]    #-->< Reverses the list ><--#"
   ]
  },
  {
   "cell_type": "markdown",
   "metadata": {},
   "source": [
    "##### 2C. List Unpacking & Packing"
   ]
  },
  {
   "cell_type": "code",
   "execution_count": 69,
   "metadata": {},
   "outputs": [
    {
     "data": {
      "text/plain": [
       "[2, 3, 4, 5, 6, 7, 8, 9]"
      ]
     },
     "execution_count": 69,
     "metadata": {},
     "output_type": "execute_result"
    }
   ],
   "source": [
    "numbers = list(range(10))\n",
    "\n",
    "first, second, *rest = numbers\n",
    "first    #-->< Stores the first index value ><--#\n",
    "second   #-->< Stores the second index value><--#\n",
    "rest #-->< Stores all the rest of elements into it ><--#"
   ]
  },
  {
   "cell_type": "code",
   "execution_count": 55,
   "metadata": {},
   "outputs": [
    {
     "name": "stdout",
     "output_type": "stream",
     "text": [
      "#-->< ================================================== ><--#\n",
      "#-->< ***************** Before Packing ***************** ><--#\n",
      "#-->< ================================================== ><--#\n",
      "      value of 'm': 1 \n",
      "      value of 'n': 10 \n",
      "      value of 'o': 50 \n",
      "      value of 'p': 60\n",
      "#-->< ================================================== ><--#\n",
      "\n",
      "#-->< ================================================== ><--#\n",
      "#-->< *****************  After Packing ***************** ><--#\n",
      "#-->< ================================================== ><--#\n",
      "      Packed List:  [1, 10, 50, 60]\n",
      "#-->< ================================================== ><--#\n"
     ]
    }
   ],
   "source": [
    "#Packing function\n",
    "def packing(*numbers):\n",
    "    return list(numbers)   #-->< Packs the numbers of n length into it ><--#\n",
    "\n",
    "#Assignment of values to be packed\n",
    "m, n, o, p = 1,10,50,60\n",
    "result = packing(m,n,o,p)\n",
    "\n",
    "space = (' ' * 6)\n",
    "print('#--><', ('='*50), '><--#')\n",
    "print('#--><', ('*'*17),'Before Packing', ('*'*17), '><--#')\n",
    "print('#--><', ('='*50), '><--#')\n",
    "print(f\"{space}value of 'm': {m} \\n{space}value of 'n': {n} \\n{space}value of 'o': {o} \\n{space}value of 'p': {p}\")\n",
    "print('#--><', ('='*50), '><--#')\n",
    "\n",
    "print()\n",
    "\n",
    "print('#--><', ('='*50), '><--#')\n",
    "print('#--><', ('*'*17),' After Packing', ('*'*17), '><--#')\n",
    "print('#--><', ('='*50), '><--#')\n",
    "print((' ' * 5), 'Packed List: ', result)\n",
    "print('#--><', ('='*50), '><--#')"
   ]
  },
  {
   "cell_type": "code",
   "execution_count": 64,
   "metadata": {},
   "outputs": [
    {
     "name": "stdout",
     "output_type": "stream",
     "text": [
      "#-->< ================================================== ><--#\n",
      "#-->< **************** Before Unpacking **************** ><--#\n",
      "#-->< ================================================== ><--#\n",
      "      Argument List:  [10, 235, 45, 5]\n",
      "#-->< ================================================== ><--#\n",
      "\n",
      "#-->< ================================================== ><--#\n",
      "#-->< ****************  After Unpacking **************** ><--#\n",
      "#-->< ================================================== ><--#\n",
      "      First_Two Element: [10, 235] \n",
      "      Third Element: 45 \n",
      "      Fourth Element: 5\n",
      "#-->< ================================================== ><--#\n"
     ]
    }
   ],
   "source": [
    "\n",
    "#Unpacking function---\n",
    "def unpacking(num):\n",
    "    *first_two, third, fourth = num\n",
    "    return f\"{space}First_Two Element: {first_two} \\n{space}Third Element: {third} \\n{space}Fourth Element: {fourth}\"\n",
    "\n",
    "#List creation to pass as an argument\n",
    "lis = [10,235,45,5]\n",
    "\n",
    "space = (' ' * 6)\n",
    "\n",
    "#Calling the unpacking function\n",
    "result = unpacking(lis)\n",
    "\n",
    "\n",
    "#Block prints the output in the terminal\n",
    "print('#--><', ('='*50), '><--#')\n",
    "print('#--><', ('*'*16),'Before Unpacking', ('*'*16), '><--#')\n",
    "print('#--><', ('='*50), '><--#')\n",
    "print((' ' * 5), 'Argument List: ', lis)\n",
    "print('#--><', ('='*50), '><--#')\n",
    "\n",
    "\n",
    "print()\n",
    "\n",
    "print('#--><', ('='*50), '><--#')\n",
    "print('#--><', ('*'*16),' After Unpacking', ('*'*16), '><--#')\n",
    "print('#--><', ('='*50), '><--#')\n",
    "print(result)\n",
    "print('#--><', ('='*50), '><--#')"
   ]
  },
  {
   "cell_type": "markdown",
   "metadata": {},
   "source": [
    "##### 2D. Looping over list"
   ]
  },
  {
   "cell_type": "code",
   "execution_count": 70,
   "metadata": {},
   "outputs": [
    {
     "name": "stdout",
     "output_type": "stream",
     "text": [
      "a\n",
      "b\n",
      "c\n"
     ]
    }
   ],
   "source": [
    "letters = ['a', 'b', 'c']\n",
    "# A simple for loop\n",
    "for letter in letters:\n",
    "    print(letter)"
   ]
  },
  {
   "cell_type": "code",
   "execution_count": 66,
   "metadata": {},
   "outputs": [
    {
     "name": "stdout",
     "output_type": "stream",
     "text": [
      "(0, 'a')\n",
      "(1, 'b')\n",
      "(2, 'c')\n"
     ]
    }
   ],
   "source": [
    "#Loop with index of an item\n",
    "for letter in enumerate(letters):\n",
    "    print(letter)                       #-->< Returns a tuple of index and value of the index ><--#"
   ]
  },
  {
   "cell_type": "code",
   "execution_count": 61,
   "metadata": {},
   "outputs": [
    {
     "name": "stdout",
     "output_type": "stream",
     "text": [
      "0 a\n",
      "1 b\n",
      "2 c\n"
     ]
    }
   ],
   "source": [
    "#Unpacking the tuple of index and value\n",
    "for index, value in enumerate(letters):\n",
    "    print(index, value)"
   ]
  },
  {
   "cell_type": "markdown",
   "metadata": {},
   "source": [
    "## 3. Adding/ Removing an element"
   ]
  },
  {
   "cell_type": "markdown",
   "metadata": {},
   "source": [
    "##### 3A. Addition"
   ]
  },
  {
   "cell_type": "code",
   "execution_count": 78,
   "metadata": {},
   "outputs": [
    {
     "data": {
      "text/plain": [
       "['i', 'v', 'a', 'b', 'z', 'fourth', 'c', 'a']"
      ]
     },
     "execution_count": 78,
     "metadata": {},
     "output_type": "execute_result"
    }
   ],
   "source": [
    "ran = ['a', 'c', 'z']\n",
    "\n",
    "#append\n",
    "ran.append('b')   #--> Adds the element to the end ><--#-->< Output - ['a','c','z','b']\n",
    "\n",
    "#insert\n",
    "ran.insert(2, 'fourth') #--> Adds the element to exact index location ><--#-->< Output - ['a','c','fourth','z','b']\n",
    "\n",
    "#extend\n",
    "ran.extend(['a','v','i']) #-->< COncatenate with the list ran ><--#"
   ]
  },
  {
   "cell_type": "markdown",
   "metadata": {},
   "source": [
    "##### 3B. Removal"
   ]
  },
  {
   "cell_type": "code",
   "execution_count": 5,
   "metadata": {},
   "outputs": [
    {
     "data": {
      "text/plain": [
       "['actress', 'dance-master']"
      ]
     },
     "execution_count": 5,
     "metadata": {},
     "output_type": "execute_result"
    }
   ],
   "source": [
    "rem = ['c','b','a']\n",
    "\n",
    "#Pop\n",
    "rem.pop(1) #-->< ['c','a'] ><--#\n",
    "\n",
    "#Remove\n",
    "rem.remove('a') #-->< ['c'] ><--#\n",
    "\n",
    "#clear\n",
    "remv = ['a', 'b', 'c']\n",
    "remv.clear()   #-->< Clears the list [] ><--#\n",
    "\n",
    "#del - remove using slicing\n",
    "new = ['hero', 'comedian', 'actress', 'dance-master']\n",
    "del new[0:2]   #-->< removes 'hero' and 'comedian' ><--#\n"
   ]
  },
  {
   "cell_type": "markdown",
   "metadata": {},
   "source": [
    "## 4. Finding an object"
   ]
  },
  {
   "cell_type": "markdown",
   "metadata": {},
   "source": [
    "##### 4A. Finding an index"
   ]
  },
  {
   "cell_type": "code",
   "execution_count": 67,
   "metadata": {},
   "outputs": [
    {
     "data": {
      "text/plain": [
       "1"
      ]
     },
     "execution_count": 67,
     "metadata": {},
     "output_type": "execute_result"
    }
   ],
   "source": [
    "ice_cream = ['vanilla', 'mango', 'strawberry', 'orange', 'chocolate']\n",
    "\n",
    "ice_cream.index('mango')   #-->< Returns the index of mango ><--#"
   ]
  },
  {
   "cell_type": "markdown",
   "metadata": {},
   "source": [
    "##### 4B. Count of an element/object"
   ]
  },
  {
   "cell_type": "code",
   "execution_count": 68,
   "metadata": {},
   "outputs": [
    {
     "data": {
      "text/plain": [
       "2"
      ]
     },
     "execution_count": 68,
     "metadata": {},
     "output_type": "execute_result"
    }
   ],
   "source": [
    "numbers = [1,2,3,4,6,2,8,2,9,1,0,4,5,6]\n",
    "\n",
    "numbers.count(1) #-->< Returns the count of 1 ><--#"
   ]
  }
 ],
 "metadata": {
  "kernelspec": {
   "display_name": "Python 3",
   "language": "python",
   "name": "python3"
  },
  "language_info": {
   "codemirror_mode": {
    "name": "ipython",
    "version": 3
   },
   "file_extension": ".py",
   "mimetype": "text/x-python",
   "name": "python",
   "nbconvert_exporter": "python",
   "pygments_lexer": "ipython3",
   "version": "3.11.4"
  }
 },
 "nbformat": 4,
 "nbformat_minor": 2
}
