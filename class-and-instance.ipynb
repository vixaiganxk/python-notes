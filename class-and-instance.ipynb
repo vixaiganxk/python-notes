{
 "cells": [
  {
   "cell_type": "markdown",
   "metadata": {},
   "source": [
    "# Object Oriented Programming (OOP)"
   ]
  },
  {
   "cell_type": "markdown",
   "metadata": {},
   "source": [
    "## Class and Objects/instances\n",
    "- Class - Blueprint/Template for creating the objects which hold the attributes and functions related \n",
    "          with objects.\n",
    "- Object - A single instance of a created class and it's a concrete realization of a class."
   ]
  },
  {
   "cell_type": "markdown",
   "metadata": {},
   "source": [
    "#### 1. Creating a simple class and instance of it"
   ]
  },
  {
   "cell_type": "code",
   "execution_count": 6,
   "metadata": {},
   "outputs": [
    {
     "name": "stdout",
     "output_type": "stream",
     "text": [
      "<__main__.Employee object at 0x000002DFAF8822D0>\n",
      "#--><| ====================================================================================== |><--#\n",
      "       First instance - employee_1 details:  <__main__.Employee object at 0x000002DFAF8822D0>\n",
      "#--><| ====================================================================================== |><--#\n"
     ]
    }
   ],
   "source": [
    "#A class/blueprint without methods and __init__ for the category Employee\n",
    "class Employee:\n",
    "    pass\n",
    "\n",
    "#-------------------------------->< Input Block ><---------------------------------#\n",
    "if __name__ == '__main__':\n",
    "\n",
    "#First instance of a class Employee\n",
    "    employee_1 = Employee()\n",
    "\n",
    "#printing any instance, tells that to which class it belongs to.\n",
    "    #print(employee_1)\n",
    "\n",
    "#-------------------------------->< Output Block ><---------------------------------#\n",
    "print('#--><|', ('='*86), '|><--#')\n",
    "print((' ' * 6), 'First instance - employee_1 details: ', employee_1)  \n",
    "print('#--><|', ('='*86), '|><--#')"
   ]
  },
  {
   "cell_type": "markdown",
   "metadata": {},
   "source": [
    "#### 2. Creating a class with special __init__ method"
   ]
  },
  {
   "cell_type": "code",
   "execution_count": 22,
   "metadata": {},
   "outputs": [
    {
     "name": "stdout",
     "output_type": "stream",
     "text": [
      "kumar.sangakara@company.com\n",
      "#--><| ======================================================== |><--#\n",
      "#--><| -------- First instance - employee_1 details:  -------- |><--#\n",
      "#--><| ======================================================== |><--#\n",
      "         First Name : Kumar\n",
      "         Last Name  : Sangakara\n",
      "         Pay        : 500000\n",
      "         Email ID   : kumar.sangakara@company.com\n",
      "#--><| ======================================================== |><--#\n"
     ]
    }
   ],
   "source": [
    "#Created a class Employee with initialization of attributes of the object\n",
    "class Employee:\n",
    "    def __init__(self, firstname, lastname, pay) -> None:\n",
    "        self.firstname = firstname\n",
    "        self.lastname = lastname\n",
    "        self.pay = pay\n",
    "        self.email = (firstname+'.'+lastname+'@company.com').lower()\n",
    "\n",
    "\"\"\"\n",
    "#-> self - represents the instance created\n",
    "#-> self = employee_1 => self.firstname = employee_1.firstname\n",
    "\"\"\"\n",
    "\n",
    "#-------------------------------->< Input Block ><---------------------------------#\n",
    "if __name__ == '__main__':\n",
    "\n",
    "#First instance of a class Employee with arguments\n",
    "    employee_1 = Employee('Kumar', 'Sangakara', 500000)\n",
    "\n",
    "#Accessing the email ID of the employee\n",
    "    print(employee_1.email)\n",
    "\n",
    "#-------------------------------->< Output Block ><---------------------------------#\n",
    "print('#--><|', ('='*56), '|><--#')\n",
    "print('#--><|', ('-'*8), 'First instance - employee_1 details: ', ('-'*8), '|><--#')\n",
    "print('#--><|', ('='*56), '|><--#')\n",
    "print((' ' * 8), 'First Name :', employee_1.firstname)  \n",
    "print((' ' * 8), 'Last Name  :', employee_1.lastname)  \n",
    "print((' ' * 8), 'Pay        :', employee_1.pay)  \n",
    "print((' ' * 8), 'Email ID   :', employee_1.email)  \n",
    "print('#--><|', ('='*56), '|><--#')"
   ]
  },
  {
   "cell_type": "markdown",
   "metadata": {},
   "source": [
    "#### 3. Creating a class with a multiple methods"
   ]
  },
  {
   "cell_type": "code",
   "execution_count": 30,
   "metadata": {},
   "outputs": [
    {
     "name": "stdout",
     "output_type": "stream",
     "text": [
      "#--><| ======================================================== |><--#\n",
      "#--><| -------- First instance - employee_1 details:  -------- |><--#\n",
      "#--><| ======================================================== |><--#\n",
      "         Employee's Full Name  : Kumar Sangakara\n",
      "         Annual Gross Pay (INR) : 683754.72\n",
      "         Email ID   : kumar.sangakara@company.com\n",
      "#--><| ======================================================== |><--#\n"
     ]
    }
   ],
   "source": [
    "#Created a class Employee with initialization of attributes of the object\n",
    "class Employee:\n",
    "    def __init__(self, firstname, lastname, pay) -> None:\n",
    "        self.firstname = firstname\n",
    "        self.lastname = lastname\n",
    "        self.pay = pay\n",
    "        self.email = (firstname+'.'+lastname+'@company.com').lower()\n",
    "    \n",
    "    def grossSalary(self):\n",
    "        return float(self.pay * 12)\n",
    "    \n",
    "    def fullName(self):\n",
    "        return self.firstname+' '+self.lastname\n",
    "    \n",
    "\"\"\"\n",
    "#-> grossSalary method - returns the annual pay as it take, all the attributes using (self)\n",
    "#-> fullName method - returns the fullname of an employee instance\n",
    "\"\"\"\n",
    "\n",
    "#-------------------------------->< Input Block ><---------------------------------#\n",
    "if __name__ == '__main__':\n",
    "\n",
    "#First instance of a class Employee with arguments\n",
    "    employee_1 = Employee('Kumar', 'Sangakara', 56979.56)\n",
    "\n",
    "#Accessing the grossSalary method of the employee - Test\n",
    "    #print('Testing the method: ', employee_1.grossSalary())\n",
    "\n",
    "'''\n",
    "#-> While calling the method of a class using parenthesis <-#\n",
    "'''\n",
    "\n",
    "#-------------------------------->< Output Block ><---------------------------------#\n",
    "print('#--><|', ('='*56), '|><--#')\n",
    "print('#--><|', ('-'*8), 'First instance - employee_1 details: ', ('-'*8), '|><--#')\n",
    "print('#--><|', ('='*56), '|><--#')\n",
    "print((' ' * 8), 'Employee\\'s Full Name  :', employee_1.fullName())  \n",
    "print((' ' * 8), 'Annual Gross Pay (INR) :', employee_1.grossSalary())   \n",
    "print((' ' * 8), 'Email ID   :', employee_1.email)  \n",
    "print('#--><|', ('='*56), '|><--#')"
   ]
  },
  {
   "cell_type": "markdown",
   "metadata": {},
   "source": [
    "#### 4. Accessing the method of a class using instance calling and class calling"
   ]
  },
  {
   "cell_type": "code",
   "execution_count": 38,
   "metadata": {},
   "outputs": [
    {
     "name": "stdout",
     "output_type": "stream",
     "text": [
      "#--><| ============================================================== |><--#\n",
      "#--><| -------- Accessing the Full Name using Instance call  -------- |><--#\n",
      "#--><| ============================================================== |><--#\n",
      "         Employee's Full Name  : Mark Zuckerberg\n",
      "         Annual Gross Pay (INR) : 1482942.72\n",
      "         Email ID   : mark.zuckerberg@company.com\n",
      "#--><| ============================================================== |><--#\n",
      "\n",
      "#--><| ============================================================== |><--#\n",
      "#--><| -------- Accessing the Full Name using Class call  -------- |><--#\n",
      "#--><| ============================================================== |><--#\n",
      "         Employee's Full Name  : Elon Musk\n",
      "         Annual Gross Pay (INR) : 6946803.0\n",
      "         Email ID   : elon.musk@company.com\n",
      "#--><| ============================================================== |><--#\n"
     ]
    }
   ],
   "source": [
    "#Created a class Employee with initialization of attributes of the object\n",
    "#-------------------------------->< Employee Class Block ><---------------------------------#\n",
    "class Employee:\n",
    "    def __init__(self, firstname, lastname, pay) -> None:\n",
    "        self.firstname = firstname\n",
    "        self.lastname = lastname\n",
    "        self.pay = pay\n",
    "    \n",
    "    def grossSalary(self):\n",
    "        return float(self.pay * 12)\n",
    "    \n",
    "    def fullName(self):\n",
    "        return self.firstname+' '+self.lastname\n",
    "    \n",
    "    def email(self):\n",
    "        return (self.firstname+'.'+self.lastname+'@company.com').lower()\n",
    "\n",
    "#-------------------------------->< Input Block ><---------------------------------#\n",
    "if __name__ == '__main__':\n",
    "\n",
    "#First instance of a class Employee with arguments\n",
    "    employee_1 = Employee('Mark', 'Zuckerberg', 123578.56)\n",
    "    employee_2 = Employee('Elon', 'Musk', 578900.25)\n",
    "\n",
    "#-------------------------------->< Output Block ><---------------------------------#\n",
    "print('#--><|', ('='*62), '|><--#')\n",
    "print('#--><|', ('-'*8), 'Accessing the Full Name using Instance call ', ('-'*8), '|><--#')\n",
    "print('#--><|', ('='*62), '|><--#')\n",
    "print((' ' * 8), 'Employee\\'s Full Name  :', employee_1.fullName())\n",
    "print((' ' * 8), 'Annual Gross Pay (INR) :', employee_1.grossSalary())   \n",
    "print((' ' * 8), 'Email ID   :', employee_1.email()) \n",
    "print('#--><|', ('='*62), '|><--#')\n",
    "\n",
    "print()\n",
    "\n",
    "print('#--><|', ('='*62), '|><--#')\n",
    "print('#--><|', ('-'*8), 'Accessing the Full Name using Class call ', ('-'*8), '|><--#')\n",
    "print('#--><|', ('='*62), '|><--#')\n",
    "print((' ' * 8), 'Employee\\'s Full Name  :', Employee.fullName(employee_2))\n",
    "print((' ' * 8), 'Annual Gross Pay (INR) :', Employee.grossSalary(employee_2))   \n",
    "print((' ' * 8), 'Email ID   :', Employee.email(employee_2))   \n",
    "  \n",
    "print('#--><|', ('='*62), '|><--#')"
   ]
  }
 ],
 "metadata": {
  "kernelspec": {
   "display_name": "Python 3",
   "language": "python",
   "name": "python3"
  },
  "language_info": {
   "codemirror_mode": {
    "name": "ipython",
    "version": 3
   },
   "file_extension": ".py",
   "mimetype": "text/x-python",
   "name": "python",
   "nbconvert_exporter": "python",
   "pygments_lexer": "ipython3",
   "version": "3.12.1"
  }
 },
 "nbformat": 4,
 "nbformat_minor": 2
}
