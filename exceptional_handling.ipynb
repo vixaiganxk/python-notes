{
 "cells": [
  {
   "cell_type": "markdown",
   "metadata": {},
   "source": [
    "# Python Basics\n",
    "## 1. Exception Handling"
   ]
  },
  {
   "cell_type": "markdown",
   "metadata": {},
   "source": [
    "##### 1A. try-except <> try success\n",
    "- **try** - tries to perform a activity. if it passes it'll process the further task.\n",
    "- **except** - if try fails, except will catches the error."
   ]
  },
  {
   "cell_type": "code",
   "execution_count": 49,
   "metadata": {},
   "outputs": [
    {
     "name": "stdout",
     "output_type": "stream",
     "text": [
      "#-->< ================================================================================ ><--#\n",
      "#-->< --------------------- Successfull Try & Result of Execution -------------------- ><--#\n",
      "#-->< ================================================================================ ><--#\n",
      "      |-- Correct file_path --| ./data/test_file.txt\n",
      "      |--Content in the file--| Hey!, Testing the file for exceptional handling...\n",
      "#-->< ================================================================================ ><--#\n"
     ]
    }
   ],
   "source": [
    "filepath = './data/test_file.txt'\n",
    "\n",
    "try:\n",
    "    f = open(filepath)\n",
    "    result = f.read()\n",
    "except Exception as e:\n",
    "    print(e)\n",
    "\n",
    "# Block to print the output in the terminal\n",
    "print('#--><', ('='*80), '><--#')\n",
    "print('#--><', ('-'*21), 'Successfull Try & Result of Execution',('-'*20),'><--#')\n",
    "print('#--><', ('='*80), '><--#')\n",
    "print((' ' * 5), '|-- Correct file_path --|', filepath)\n",
    "print((' ' * 5), '|--Content in the file--|', result)\n",
    "print('#--><', ('='*80), '><--#')"
   ]
  },
  {
   "cell_type": "markdown",
   "metadata": {},
   "source": [
    "##### 1B. Catching exception using wrong file_path <> try fails"
   ]
  },
  {
   "cell_type": "code",
   "execution_count": 50,
   "metadata": {},
   "outputs": [
    {
     "name": "stdout",
     "output_type": "stream",
     "text": [
      "#-->< ================================================================================ ><--#\n",
      "#-->< --------------------- Catching exception by using wrongpath -------------------- ><--#\n",
      "#-->< ================================================================================ ><--#\n",
      "      |-- Correct file_path --| ./data/test_file.txt\n",
      "      |--  Wrong file_path  --| ./testfile.txt\n",
      "      |--   Error Message   --| [Errno 2] No such file or directory: './testfile.txt'\n",
      "#-->< ================================================================================ ><--#\n"
     ]
    }
   ],
   "source": [
    "filepath = './data/test_file.txt'\n",
    "wrongpath = './testfile.txt'\n",
    "\n",
    "try:\n",
    "    f = open(wrongpath)\n",
    "    new_result = f.read()\n",
    "except Exception as e:\n",
    "    error = e\n",
    "\n",
    "# Block to print the output in the terminal\n",
    "print('#--><', ('='*80), '><--#')\n",
    "print('#--><', ('-'*21), 'Catching exception by using wrongpath',('-'*20),'><--#')\n",
    "print('#--><', ('='*80), '><--#')\n",
    "print((' ' * 5), '|-- Correct file_path --|', filepath)\n",
    "print((' ' * 5), '|--  Wrong file_path  --|', wrongpath)\n",
    "print((' ' * 5), '|--   Error Message   --|', error)\n",
    "print('#--><', ('='*80), '><--#')"
   ]
  },
  {
   "cell_type": "markdown",
   "metadata": {},
   "source": [
    "##### 1C. Using **else** with try-except\n",
    "- If try block passes, we can proceed with further steps either in  **try** or **else** block."
   ]
  },
  {
   "cell_type": "code",
   "execution_count": 55,
   "metadata": {},
   "outputs": [
    {
     "name": "stdout",
     "output_type": "stream",
     "text": [
      "#-->< ================================================================================ ><--#\n",
      "#-->< ---------------------- Using Else block for further steps  --------------------- ><--#\n",
      "#-->< ================================================================================ ><--#\n",
      "      |----Correct file_path-----| ./data/test_file.txt\n",
      "      |--Result from else block--| Hey!, Testing the file for exceptional handling...\n",
      "#-->< ================================================================================ ><--#\n"
     ]
    }
   ],
   "source": [
    "filepath = './data/test_file.txt'\n",
    "\n",
    "try:\n",
    "    f = open(filepath)\n",
    "except Exception as e:\n",
    "    error = e\n",
    "else:\n",
    "    else_reader  = f.read()\n",
    "\n",
    "# Block to print the output in the terminal\n",
    "print('#--><', ('='*80), '><--#')\n",
    "print('#--><', ('-'*22), 'Using Else block for further steps ',('-'*21),'><--#')\n",
    "print('#--><', ('='*80), '><--#')\n",
    "print((' ' * 5), '|----Correct file_path-----|', filepath)\n",
    "print((' ' * 5), '|--Result from else block--|', else_reader)\n",
    "print('#--><', ('='*80), '><--#')"
   ]
  },
  {
   "cell_type": "markdown",
   "metadata": {},
   "source": [
    "##### 1D. Finally Block & Reading from try block\n",
    "- As a **default** block, it'll be executed whether the error found or not."
   ]
  },
  {
   "cell_type": "code",
   "execution_count": 79,
   "metadata": {},
   "outputs": [
    {
     "name": "stdout",
     "output_type": "stream",
     "text": [
      "#-->< ================================================================================ ><--#\n",
      "#-->< ------------------- Using Finally block for default actions  ------------------- ><--#\n",
      "#-->< ================================================================================ ><--#\n",
      "      |------Correct file_path------| ./data/test_file.txt\n",
      "      |--- Result from try block ---| Hey!, Testing the file for exceptional handling...\n",
      "      |----Result from else block---| \n",
      "      |--Result from finally block--| Closed the file ./data/test_file.txt\n",
      "#-->< ================================================================================ ><--#\n"
     ]
    }
   ],
   "source": [
    "filepath = './data/test_file.txt'\n",
    "\n",
    "try:\n",
    "    f = open(filepath)\n",
    "    try_reader  = f.read()\n",
    "except Exception as e:\n",
    "    error = e\n",
    "else:\n",
    "    else_reader  = f.read()\n",
    "finally:\n",
    "    f.close()\n",
    "    final_output = f'Closed the file {f.name}'\n",
    "\n",
    "# Block to print the output in the terminal\n",
    "print('#--><', ('='*80), '><--#')\n",
    "print('#--><', ('-'*19), 'Using Finally block for default actions ',('-'*19),'><--#')\n",
    "print('#--><', ('='*80), '><--#')\n",
    "print((' ' * 5), '|------Correct file_path------|', filepath)\n",
    "print((' ' * 5), '|--- Result from try block ---|', try_reader)\n",
    "print((' ' * 5), '|----Result from else block---|', else_reader)\n",
    "print((' ' * 5), '|--Result from finally block--|', final_output)\n",
    "print('#--><', ('='*80), '><--#')"
   ]
  }
 ],
 "metadata": {
  "kernelspec": {
   "display_name": "Python 3",
   "language": "python",
   "name": "python3"
  },
  "language_info": {
   "codemirror_mode": {
    "name": "ipython",
    "version": 3
   },
   "file_extension": ".py",
   "mimetype": "text/x-python",
   "name": "python",
   "nbconvert_exporter": "python",
   "pygments_lexer": "ipython3",
   "version": "3.11.4"
  }
 },
 "nbformat": 4,
 "nbformat_minor": 2
}
