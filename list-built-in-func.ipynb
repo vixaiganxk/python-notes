{
 "cells": [
  {
   "cell_type": "markdown",
   "metadata": {},
   "source": [
    "# Python Basics\n",
    "\n",
    "## **List** - Built-in functions"
   ]
  },
  {
   "cell_type": "code",
   "execution_count": 153,
   "metadata": {},
   "outputs": [
    {
     "data": {
      "text/plain": [
       "[1, 2, ['age', 25], {'new': 57}]"
      ]
     },
     "execution_count": 153,
     "metadata": {},
     "output_type": "execute_result"
    }
   ],
   "source": [
    "#creating a list\n",
    "lis = [1, 2, ['age', 25], {'new': 57}]\n",
    "\n",
    "lis"
   ]
  },
  {
   "cell_type": "markdown",
   "metadata": {},
   "source": [
    "### Output function blocks"
   ]
  },
  {
   "cell_type": "code",
   "execution_count": 154,
   "metadata": {},
   "outputs": [],
   "source": [
    "import copy\n",
    "\n",
    "#output top & line block functions\n",
    "def topblock():\n",
    "    print('#--><', ('='*98), '><--#')\n",
    "    print('#--><', ('-'*36), 'List - Builtin Functions',('-'*36),'><--#')\n",
    "    print('#--><', ('='*98), '><--#')\n",
    "\n",
    "def line():\n",
    "    print('#--><', ('='*98), '><--#')\n",
    "\n",
    "#copy block\n",
    "\n",
    "def co(lis):\n",
    "    return copy.copy(lis)"
   ]
  },
  {
   "cell_type": "markdown",
   "metadata": {},
   "source": [
    "### append() function"
   ]
  },
  {
   "cell_type": "code",
   "execution_count": 155,
   "metadata": {},
   "outputs": [],
   "source": [
    "#items to be appended to the list\n",
    "item1 = [1,4,5]\n",
    "dic = {'name':'John'}\n",
    "flo = 98.99\n",
    "\n",
    "old = co(lis)\n",
    "\n",
    "lis.append(item1)\n",
    "lis_add = co(lis)\n",
    "\n",
    "lis.append(dic)\n",
    "dic_add = co(lis)\n",
    "\n",
    "lis.append(flo)\n",
    "flo_add = co(lis)"
   ]
  },
  {
   "cell_type": "markdown",
   "metadata": {},
   "source": [
    "##### Output block - append()"
   ]
  },
  {
   "cell_type": "code",
   "execution_count": 212,
   "metadata": {},
   "outputs": [
    {
     "name": "stdout",
     "output_type": "stream",
     "text": [
      "#-->< ================================================================================================== ><--#\n",
      "#-->< ------------------------------------ List - Builtin Functions ------------------------------------ ><--#\n",
      "#-->< ================================================================================================== ><--#\n",
      "#-->< -------------------------------------------------- list.append() --------------------------------- ><--#\n",
      "#-->< ================================================================================================== ><--#\n",
      "      |--- Created list ---| ---------------- [1, 2, ['age', 25], {'new': 57}] ------------------------- ><--#\n",
      "#-->< ================================================================================================== ><--#\n",
      "      |---- [1, 4, 5] -----| --------------- [1, 2, ['age', 25], {'new': 57}, [1, 4, 5]] --------------- ><--#\n",
      "      |--{'name': 'John'}--| ------ [1, 2, ['age', 25], {'new': 57}, [1, 4, 5], {'name': 'John'}] ------ ><--#\n",
      "      |------- 98.99 ------| --- [1, 2, ['age', 25], {'new': 57}, [1, 4, 5], {'name': 'John'}, 98.99] -- ><--#\n",
      "#-->< ================================================================================================== ><--#\n"
     ]
    }
   ],
   "source": [
    "topblock()\n",
    "print('#--><', ('-'*50), 'list.append()', ('-'*33), '><--#')\n",
    "line()\n",
    "print((' ' * 5), '|--- Created list ---|', ('-'*16), repr(old), ('-'*25), '><--#')\n",
    "line()\n",
    "print((' ' * 5), '|---- [1, 4, 5] -----|', ('-'*15), repr(lis_add), ('-'*15), '><--#')\n",
    "print((' ' * 5), \"|--{'name': 'John'}--|\", ('-'*6), repr(dic_add), ('-'*6), '><--#')\n",
    "print((' ' * 5), \"|------- 98.99 ------|\", ('-'*3), repr(flo_add), ('-'*2), '><--#')\n",
    "line()\n"
   ]
  },
  {
   "cell_type": "markdown",
   "metadata": {},
   "source": [
    "### extend() function\n",
    "- Only iterables can be extended into the list"
   ]
  },
  {
   "cell_type": "code",
   "execution_count": 213,
   "metadata": {},
   "outputs": [],
   "source": [
    "#list for extend operation\n",
    "new_list = [1,2,3]\n",
    "\n",
    "#items to be extended into the list\n",
    "tup = (0,7)\n",
    "stri = 'azzr'\n",
    "sett = {6,2,2}\n",
    "dic = {'film':'Avatar'}\n",
    "\n",
    "bkk = co(new_list)\n",
    "\n",
    "new_list.extend(tup)\n",
    "tup_ex = co(new_list)\n",
    "\n",
    "new_list.extend(stri)\n",
    "stri_ex = co(new_list)\n",
    "\n",
    "new_list.extend(sett)\n",
    "sett_ex = co(new_list)\n",
    "\n",
    "new_list.extend(dic.keys())\n",
    "dic_key = co(new_list)\n",
    "\n",
    "new_list.extend(dic.values())\n",
    "dic_val = co(new_list)"
   ]
  },
  {
   "cell_type": "markdown",
   "metadata": {},
   "source": [
    "##### Output block - extend()"
   ]
  },
  {
   "cell_type": "code",
   "execution_count": 214,
   "metadata": {},
   "outputs": [
    {
     "name": "stdout",
     "output_type": "stream",
     "text": [
      "#-->< ================================================================================================== ><--#\n",
      "#-->< ------------------------------------ List - Builtin Functions ------------------------------------ ><--#\n",
      "#-->< ================================================================================================== ><--#\n",
      "#-->< ------------------------------------------ list.extend() ----------------------------------------- ><--#\n",
      "#-->< ================================================================================================== ><--#\n",
      "      |--- Created list ---| -------------------------------- [1, 2, 3] -------------------------------- ><--#\n",
      "#-->< ================================================================================================== ><--#\n",
      "      |------ (0, 7) ------| ----------------------------- [1, 2, 3, 0, 7] ----------------------------- ><--#\n",
      "      |------ 'azzr' ------| ------------------- [1, 2, 3, 0, 7, 'a', 'z', 'z', 'r'] ------------------- ><--#\n",
      "      |----- {6, 2, 2} ----| ---------------- [1, 2, 3, 0, 7, 'a', 'z', 'z', 'r', 2, 6] ---------------- ><--#\n",
      "      |--{'film':'Avatar'}-| ------------ [1, 2, 3, 0, 7, 'a', 'z', 'z', 'r', 2, 6, 'film'] ------------ ><--#\n",
      "      |--{'film':'Avatar'}-| ------- [1, 2, 3, 0, 7, 'a', 'z', 'z', 'r', 2, 6, 'film', 'Avatar'] ------- ><--#\n",
      "#-->< ================================================================================================== ><--#\n"
     ]
    }
   ],
   "source": [
    "topblock()\n",
    "print('#--><', ('-'*42), 'list.extend()', ('-'*41), '><--#')\n",
    "line()\n",
    "print((' ' * 5), '|--- Created list ---|', ('-'*32), repr(bkk), ('-'*32), '><--#')\n",
    "line()\n",
    "print((' ' * 5), '|------ (0, 7) ------|', ('-'*29), repr(tup_ex), ('-'*29), '><--#')\n",
    "print((' ' * 5), \"|------ 'azzr' ------|\", ('-'*19), repr(stri_ex), ('-'*19), '><--#')\n",
    "print((' ' * 5), \"|----- {6, 2, 2} ----|\", ('-'*16), repr(sett_ex), ('-'*16), '><--#')\n",
    "print((' ' * 5), \"|--{'film':'Avatar'}-|\", ('-'*12), repr(dic_key), ('-'*12), '><--#')\n",
    "print((' ' * 5), \"|--{'film':'Avatar'}-|\", ('-'*7), repr(dic_val), ('-'*7), '><--#')\n",
    "line()"
   ]
  },
  {
   "cell_type": "markdown",
   "metadata": {},
   "source": [
    "### All other built-in functions of list"
   ]
  },
  {
   "cell_type": "code",
   "execution_count": 201,
   "metadata": {},
   "outputs": [
    {
     "name": "stdout",
     "output_type": "stream",
     "text": [
      "[5, 6, 7, 19, 6] [5, 6, 7, 98.9, 19, 6] 3 2 19 [5, 6, 7, 98.9, 6] [5, 7, 98.9, 6] [5, 6, 7, 98.9] [98.9, 7, 6, 5] []\n"
     ]
    }
   ],
   "source": [
    "new_list = [5,6,7, 19, 6]\n",
    "\n",
    "#to perform all funcs\n",
    "n = new_list.copy()\n",
    "\n",
    "#insert a string\n",
    "n.insert(3, 98.90)\n",
    "ins_n = n.copy()\n",
    "\n",
    "#finding the index of a string\n",
    "ind_98_90 = n.index(98.90)\n",
    "\n",
    "#finding the count of 6 in list\n",
    "count_6 = n.count(6)\n",
    "\n",
    "#pop with list\n",
    "before_pop = n.copy()\n",
    "pop_elem = n.pop(4)\n",
    "after_pop = n.copy()\n",
    "\n",
    "#removal of 6 from list\n",
    "n.remove(6)\n",
    "removed_6 = n.copy()\n",
    "\n",
    "#sorting the list\n",
    "n.sort()\n",
    "sort_n = n.copy()\n",
    "\n",
    "#reverse the list\n",
    "n.reverse()\n",
    "rev_n = n.copy()\n",
    "\n",
    "#clearing the list\n",
    "n.clear()"
   ]
  },
  {
   "cell_type": "markdown",
   "metadata": {},
   "source": [
    "#### Ouput block for the above"
   ]
  },
  {
   "cell_type": "code",
   "execution_count": 209,
   "metadata": {},
   "outputs": [
    {
     "name": "stdout",
     "output_type": "stream",
     "text": [
      "#-->< ================================================================================================== ><--#\n",
      "#-->< ------------------------------------ List - Builtin Functions ------------------------------------ ><--#\n",
      "#-->< ================================================================================================== ><--#\n",
      "      |------ Created list ------| ------------------------- [5, 6, 7, 19, 6] -------------------------- ><--#\n",
      "#-->< ================================================================================================== ><--#\n",
      "      |--  n.insert(3, 98.90)  --| ----------------------- [5, 6, 7, 98.9, 19, 6] ---------------------- ><--#\n",
      "      |----  n.index(98.90)  ----| --------------------------------- 3 --------------------------------- ><--#\n",
      "      |-------- n.count(6) ------| --------------------------------- 2 --------------------------------- ><--#\n",
      "      |-------- before_pop ------| ----------------------- [5, 6, 7, 98.9, 19, 6] ---------------------- ><--#\n",
      "      |-------  n.pop(4)  -------| --------------------------------- 19 -------------------------------- ><--#\n",
      "      |-------- after_pop -------| ------------------------ [5, 6, 7, 98.9, 6] ------------------------- ><--#\n",
      "      |------ n.remove(6) -------| -------------------------- [5, 7, 98.9, 6] -------------------------- ><--#\n",
      "      |-------  n.sort()  -------| -------------------------- [5, 6, 7, 98.9] -------------------------- ><--#\n",
      "      |------  n.reverse() ------| -------------------------- [98.9, 7, 6, 5] -------------------------- ><--#\n",
      "      |-------  n.clear() -------| --------------------------------- [] -------------------------------- ><--#\n",
      "#-->< ================================================================================================== ><--#\n"
     ]
    }
   ],
   "source": [
    "topblock()\n",
    "#print('#--><', ('-'*42), 'list.extend()', ('-'*41), '><--#')\n",
    "print((' ' * 5), '|------ Created list ------|', ('-'*25), repr(new_list), ('-'*26), '><--#')\n",
    "line()\n",
    "print((' ' * 5), '|--  n.insert(3, 98.90)  --|', ('-'*23), repr(ins_n), ('-'*22), '><--#')\n",
    "print((' ' * 5), \"|----  n.index(98.90)  ----|\", ('-'*33), repr(ind_98_90), ('-'*33), '><--#')\n",
    "print((' ' * 5), \"|-------- n.count(6) ------|\", ('-'*33), repr(count_6), ('-'*33), '><--#')\n",
    "print((' ' * 5), \"|-------- before_pop ------|\", ('-'*23), repr(before_pop), ('-'*22), '><--#')\n",
    "print((' ' * 5), \"|-------  n.pop(4)  -------|\", ('-'*33), repr(pop_elem), ('-'*32), '><--#')\n",
    "print((' ' * 5), \"|-------- after_pop -------|\", ('-'*24), repr(after_pop), ('-'*25), '><--#')\n",
    "print((' ' * 5), \"|------ n.remove(6) -------|\", ('-'*26), repr(removed_6), ('-'*26), '><--#')\n",
    "print((' ' * 5), \"|-------  n.sort()  -------|\", ('-'*26), repr(sort_n), ('-'*26), '><--#')\n",
    "print((' ' * 5), \"|------  n.reverse() ------|\", ('-'*26), repr(rev_n), ('-'*26), '><--#')\n",
    "print((' ' * 5), \"|-------  n.clear() -------|\", ('-'*33), repr(n), ('-'*32), '><--#')\n",
    "line()"
   ]
  }
 ],
 "metadata": {
  "kernelspec": {
   "display_name": "Python 3",
   "language": "python",
   "name": "python3"
  },
  "language_info": {
   "codemirror_mode": {
    "name": "ipython",
    "version": 3
   },
   "file_extension": ".py",
   "mimetype": "text/x-python",
   "name": "python",
   "nbconvert_exporter": "python",
   "pygments_lexer": "ipython3",
   "version": "3.11.4"
  }
 },
 "nbformat": 4,
 "nbformat_minor": 2
}
