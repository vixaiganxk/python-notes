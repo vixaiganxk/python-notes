{
 "cells": [
  {
   "cell_type": "markdown",
   "metadata": {},
   "source": [
    "# Object Oriented Programming (OOP)"
   ]
  },
  {
   "cell_type": "markdown",
   "metadata": {},
   "source": [
    "## Class variables\n",
    "- Class variables - Variables that are all shared across all the instances."
   ]
  },
  {
   "cell_type": "markdown",
   "metadata": {},
   "source": [
    "#### 1. Creating a class variable - (variable_percent)"
   ]
  },
  {
   "cell_type": "code",
   "execution_count": 21,
   "metadata": {},
   "outputs": [
    {
     "name": "stdout",
     "output_type": "stream",
     "text": [
      "#--><| ============================================================== |><--#\n",
      "#--><| --------------- Accessing the class variable  ---------------- |><--#\n",
      "#--><| ============================================================== |><--#\n",
      "         All emploee's Variable pay percentage   : 1.1\n",
      "         Employee_1 Variable pay percentage      : 1.1\n",
      "         Employee_2 Variable pay percentage      : 1.1\n",
      "#--><| ============================================================== |><--#\n"
     ]
    }
   ],
   "source": [
    "#Created a class Employee with initialization of attributes of the object\n",
    "#-------------------------------->< Employee Class Block ><---------------------------------#\n",
    "class Employee:\n",
    "    #Creating a class variable\n",
    "    variable_percent = 1.10\n",
    "\n",
    "\n",
    "    def __init__(self, firstname, lastname, pay) -> None:\n",
    "        self.firstname = firstname\n",
    "        self.lastname = lastname\n",
    "        self.pay = pay\n",
    "    \n",
    "    def grossSalary(self):\n",
    "        return float(self.pay * 12)\n",
    "    \n",
    "    def fullName(self):\n",
    "        return self.firstname+' '+self.lastname\n",
    "    \n",
    "    def email(self):\n",
    "        return (self.firstname+'.'+self.lastname+'@company.com').lower()\n",
    "\n",
    "    def variable_pay(self):\n",
    "        return self.pay - (self.pay * Employee.variable_pay)\n",
    "    \n",
    "    def ctc(self):\n",
    "        return self.pay * Employee.variable_pay\n",
    "\n",
    "#-------------------------------->< Input Block ><---------------------------------#\n",
    "if __name__ == '__main__':\n",
    "\n",
    "#First instance of a class Employee with arguments\n",
    "    employee_1 = Employee('Mark', 'Zuckerberg', 123578.56)\n",
    "    employee_2 = Employee('Elon', 'Musk', 578900.25)\n",
    "\n",
    "#-------------------------------->< Output Block ><---------------------------------#\n",
    "print('#--><|', ('='*62), '|><--#')\n",
    "print('#--><|', ('-'*15), 'Accessing the class variable ', ('-'*16), '|><--#')\n",
    "print('#--><|', ('='*62), '|><--#')\n",
    "print((' ' * 8), 'All emploee\\'s Variable pay percentage   :', Employee.variable_percent)\n",
    "print((' ' * 8), 'Employee_1 Variable pay percentage      :', employee_1.variable_percent)\n",
    "print((' ' * 8), 'Employee_2 Variable pay percentage      :', employee_2.variable_percent)\n",
    "print('#--><|', ('='*62), '|><--#')"
   ]
  },
  {
   "cell_type": "markdown",
   "metadata": {},
   "source": [
    "#### 2. Modifying the class variable for a specific instance"
   ]
  },
  {
   "cell_type": "code",
   "execution_count": 24,
   "metadata": {},
   "outputs": [
    {
     "name": "stdout",
     "output_type": "stream",
     "text": [
      "#--><| ============================================================== |><--#\n",
      "#--><| -------- Modifying the class variable for Employee_1  -------- |><--#\n",
      "#--><| ============================================================== |><--#\n",
      "         All emploee's Variable pay percentage   : 1.14\n",
      "         Employee_1 Variable pay percentage      : 1.5\n",
      "         Employee_2 Variable pay percentage      : 1.14\n",
      "#--><| ============================================================== |><--#\n"
     ]
    }
   ],
   "source": [
    "#Modifying the class variable for an instance - employee_1\n",
    "employee_1.variable_percent = 1.5\n",
    "\n",
    "#-------------------------------->< Output Block ><---------------------------------#\n",
    "print('#--><|', ('='*62), '|><--#')\n",
    "print('#--><|', ('-'*8), 'Modifying the class variable for Employee_1 ', ('-'*8), '|><--#')\n",
    "print('#--><|', ('='*62), '|><--#')\n",
    "print((' ' * 8), 'All emploee\\'s Variable pay percentage   :', Employee.variable_percent)\n",
    "print((' ' * 8), 'Employee_1 Variable pay percentage      :', employee_1.variable_percent)\n",
    "print((' ' * 8), 'Employee_2 Variable pay percentage      :', employee_2.variable_percent)\n",
    "print('#--><|', ('='*62), '|><--#')"
   ]
  },
  {
   "cell_type": "markdown",
   "metadata": {},
   "source": [
    "#### 2. Modifying the class variable for all instances"
   ]
  },
  {
   "cell_type": "code",
   "execution_count": 27,
   "metadata": {},
   "outputs": [
    {
     "name": "stdout",
     "output_type": "stream",
     "text": [
      "#--><| ============================================================== |><--#\n",
      "#--><| -------- Modifying the class variable for Employee class  -------- |><--#\n",
      "#--><| ============================================================== |><--#\n",
      "         All emploee's Variable pay percentage   : 1.14\n",
      "         Employee_1 Variable pay percentage      : 1.5\n",
      "         Employee_2 Variable pay percentage      : 1.14\n",
      "#--><| ============================================================== |><--#\n"
     ]
    }
   ],
   "source": [
    "#Modifying the class variable for a class - Employee\n",
    "Employee.variable_percent = 1.14\n",
    "\n",
    "#-------------------------------->< Output Block ><---------------------------------#\n",
    "print('#--><|', ('='*62), '|><--#')\n",
    "print('#--><|', ('-'*8), 'Modifying the class variable for Employee class ', ('-'*8), '|><--#')\n",
    "print('#--><|', ('='*62), '|><--#')\n",
    "print((' ' * 8), 'All emploee\\'s Variable pay percentage   :', Employee.variable_percent)\n",
    "print((' ' * 8), 'Employee_1 Variable pay percentage      :', employee_1.variable_percent)\n",
    "print((' ' * 8), 'Employee_2 Variable pay percentage      :', employee_2.variable_percent)\n",
    "print('#--><|', ('='*62), '|><--#')\n",
    "\n",
    "\"\"\"\n",
    "If the value is less than the value for a specific instance - It remains unchanged\n",
    "If the value is higher than the value for a specific instance - Modified to the new higher value\n",
    "\"\"\""
   ]
  }
 ],
 "metadata": {
  "kernelspec": {
   "display_name": "Python 3",
   "language": "python",
   "name": "python3"
  },
  "language_info": {
   "codemirror_mode": {
    "name": "ipython",
    "version": 3
   },
   "file_extension": ".py",
   "mimetype": "text/x-python",
   "name": "python",
   "nbconvert_exporter": "python",
   "pygments_lexer": "ipython3",
   "version": "3.12.1"
  }
 },
 "nbformat": 4,
 "nbformat_minor": 2
}
