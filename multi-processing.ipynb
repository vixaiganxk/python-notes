{
 "cells": [
  {
   "cell_type": "markdown",
   "metadata": {},
   "source": [
    "# Multi-Processing"
   ]
  },
  {
   "cell_type": "markdown",
   "metadata": {},
   "source": [
    "#### 1. Running a methods of myTask module without multi-processing"
   ]
  },
  {
   "cell_type": "code",
   "execution_count": null,
   "metadata": {},
   "outputs": [],
   "source": [
    "import time\n",
    "from myTask import myTask\n",
    "\n",
    "task = myTask()\n",
    "\n",
    "start_time = time.time()\n",
    "\n",
    "task.cooking_food()\n",
    "task.eat_breakfast()\n",
    "task.phone_call()\n",
    "task.washing_cloths()\n",
    "\n",
    "end_time = time.time()\n",
    "\n",
    "print(f'Time taken to completed all the methods: {round((end_time -start_time), 2)} second(s)')"
   ]
  },
  {
   "cell_type": "markdown",
   "metadata": {},
   "source": [
    "#### 2. Running the methods of myTask using multiprocessing"
   ]
  },
  {
   "cell_type": "code",
   "execution_count": null,
   "metadata": {},
   "outputs": [],
   "source": [
    "import multiprocessing\n",
    "import time\n",
    "from myTask import myTask\n",
    "task = myTask()\n",
    "#start time calculation\n",
    "start_time = time.time()\n",
    "\n",
    "functions = [task.eat_breakfast, task.phone_call, task.cooking_food, task.washing_cloths]\n",
    "processes = []\n",
    "\n",
    "#starting the processes\n",
    "for _ in range(10):\n",
    "    for function in functions:\n",
    "        p = multiprocessing.Process(target=function)\n",
    "        p.start()\n",
    "        processes.append(p)\n",
    "\n",
    "#joining the processes\n",
    "for process in processes:\n",
    "    process.join()\n",
    "\n",
    "#End time calculation\n",
    "end_time = time.time()\n",
    "\n",
    "print(f'Time taken to completed all the methods: {round((end_time -start_time), 2)} second(s)')"
   ]
  },
  {
   "cell_type": "markdown",
   "metadata": {},
   "source": [
    "#### 3. class People without multi-processing"
   ]
  },
  {
   "cell_type": "code",
   "execution_count": null,
   "metadata": {},
   "outputs": [],
   "source": [
    "from people import People\n",
    "import time\n",
    "\n",
    "people = [['mary', 13, 'female'], ['Manmohan', 65, 'Male'], ['Gimon', 17, 'M']]\n",
    "\n",
    "p = People('Gynoie', 17, 'F')\n",
    "\n",
    "start_time = time.perf_counter()\n",
    "\n",
    "for i in people:\n",
    "    p= People(i[0], i[1], i[2])\n",
    "    p.welcomeNote()\n",
    "    p.voteEligibility()\n",
    "\n",
    "final_time = time.perf_counter()\n",
    "\n",
    "print(f'        Time taken to completed all the methods: {round((final_time -start_time), 2)} second(s)')"
   ]
  },
  {
   "cell_type": "markdown",
   "metadata": {},
   "source": [
    "#### 4. Multi-processing with People class"
   ]
  },
  {
   "cell_type": "code",
   "execution_count": null,
   "metadata": {},
   "outputs": [],
   "source": [
    "from people import People\n",
    "import time\n",
    "import multiprocessing\n",
    "\n",
    "\n",
    "people = [['mary', 13, 'female'], ['Manmohan', 65, 'Male'], ['Gimon', 17, 'M']]\n",
    "\n",
    "p = People('Gynoie', 17, 'F')\n",
    "\n",
    "start_time = time.perf_counter()\n",
    "process = []\n",
    "\n",
    "for i in people:\n",
    "    p= People(i[0], i[1], i[2])\n",
    "    for j in [p.welcomeNote, p.voteEligibility]:\n",
    "        p = multiprocessing.Process(target=j)\n",
    "        p.start()\n",
    "        process.append(p)\n",
    "\n",
    "print('#--><|', ('='*80), '|><--#')\n",
    "print(f'#--><| Total processes started: {len(process)}')\n",
    "for pro in process:\n",
    "    print('#--><|', pro)\n",
    "    pro.join()\n",
    "\n",
    "final_time = time.perf_counter()\n",
    "print('#--><|', ('='*80), '|><--#')\n",
    "print(f'#--><| Time taken to completed all the methods: {round((final_time -start_time), 4)} second(s)')\n",
    "print('#--><|', ('='*80), '|><--#')"
   ]
  },
  {
   "cell_type": "markdown",
   "metadata": {},
   "source": [
    "#### 5. Multi-processing with ProcessPoolExecutor"
   ]
  },
  {
   "cell_type": "code",
   "execution_count": null,
   "metadata": {},
   "outputs": [],
   "source": [
    "from concurrent.futures import ProcessPoolExecutor\n",
    "import time\n",
    "\n",
    "people = [['mary', 13, 'female'], ['Manmohan', 65, 'Male'], ['Gimon', 17, 'M']]\n",
    "\n",
    "p = People('Gynoie', 17, 'F')\n",
    "\n",
    "start_time = time.perf_counter()\n",
    "results = []\n",
    "with ProcessPoolExecutor() as executor:\n",
    "    for i in people:\n",
    "        p= People(i[0], i[1], i[2])\n",
    "        for j in [p.welcomeNote, p.voteEligibility]:\n",
    "            result = executor.submit(j)\n",
    "            results.append(result)\n",
    "\n",
    "print('#--><|', ('='*80), '|><--#')\n",
    "print(f'#--><| Total results in the list: {len(results)}')\n",
    "for result in results:\n",
    "    print(result.result())\n",
    "\n",
    "final_time = time.perf_counter()\n",
    "\n",
    "print('#--><|', ('='*80), '|><--#')\n",
    "print(f'#--><| Time taken to completed all the methods: {round((final_time -start_time), 4)} second(s)')\n",
    "print('#--><|', ('='*80), '|><--#')"
   ]
  },
  {
   "cell_type": "markdown",
   "metadata": {},
   "source": [
    "#### 6. Looping through multiprocessing and Processpoolexecutor"
   ]
  },
  {
   "cell_type": "markdown",
   "metadata": {},
   "source": [
    "##### 6A. ProcessPoolExecutor"
   ]
  },
  {
   "cell_type": "code",
   "execution_count": null,
   "metadata": {},
   "outputs": [],
   "source": [
    "def do_something(seconds):\n",
    "    print(f'Sleeping for {seconds} second(s)')\n",
    "    time.sleep(seconds)\n",
    "    print(f'#--><| Done sleeping for {seconds} second(s)...')"
   ]
  },
  {
   "cell_type": "code",
   "execution_count": 62,
   "metadata": {},
   "outputs": [
    {
     "ename": "BrokenProcessPool",
     "evalue": "A process in the process pool was terminated abruptly while the future was running or pending.",
     "output_type": "error",
     "traceback": [
      "\u001b[1;31m---------------------------------------------------------------------------\u001b[0m",
      "\u001b[1;31mBrokenProcessPool\u001b[0m                         Traceback (most recent call last)",
      "Cell \u001b[1;32mIn[62], line 20\u001b[0m\n\u001b[0;32m     17\u001b[0m     results \u001b[38;5;241m=\u001b[39m executor\u001b[38;5;241m.\u001b[39msubmit(do_something, \u001b[38;5;241m10\u001b[39m)\n\u001b[0;32m     18\u001b[0m     \u001b[38;5;66;03m#output.append(result)\u001b[39;00m\n\u001b[1;32m---> 20\u001b[0m     \u001b[38;5;28mprint\u001b[39m(\u001b[43mresults\u001b[49m\u001b[38;5;241;43m.\u001b[39;49m\u001b[43mresult\u001b[49m\u001b[43m(\u001b[49m\u001b[43m)\u001b[49m)\n\u001b[0;32m     21\u001b[0m \u001b[38;5;28mprint\u001b[39m(\u001b[38;5;124m'\u001b[39m\u001b[38;5;124m#--><|\u001b[39m\u001b[38;5;124m'\u001b[39m, (\u001b[38;5;124m'\u001b[39m\u001b[38;5;124m=\u001b[39m\u001b[38;5;124m'\u001b[39m\u001b[38;5;241m*\u001b[39m\u001b[38;5;241m80\u001b[39m), \u001b[38;5;124m'\u001b[39m\u001b[38;5;124m|><--#\u001b[39m\u001b[38;5;124m'\u001b[39m)\n\u001b[0;32m     22\u001b[0m \u001b[38;5;28mprint\u001b[39m(\u001b[38;5;124mf\u001b[39m\u001b[38;5;124m'\u001b[39m\u001b[38;5;124m#--><| Total no. of. processes started: \u001b[39m\u001b[38;5;132;01m{\u001b[39;00m\u001b[38;5;28mlen\u001b[39m(output)\u001b[38;5;132;01m}\u001b[39;00m\u001b[38;5;124m'\u001b[39m)\n",
      "File \u001b[1;32mc:\\Program Files\\Python312\\Lib\\concurrent\\futures\\_base.py:456\u001b[0m, in \u001b[0;36mFuture.result\u001b[1;34m(self, timeout)\u001b[0m\n\u001b[0;32m    454\u001b[0m     \u001b[38;5;28;01mraise\u001b[39;00m CancelledError()\n\u001b[0;32m    455\u001b[0m \u001b[38;5;28;01melif\u001b[39;00m \u001b[38;5;28mself\u001b[39m\u001b[38;5;241m.\u001b[39m_state \u001b[38;5;241m==\u001b[39m FINISHED:\n\u001b[1;32m--> 456\u001b[0m     \u001b[38;5;28;01mreturn\u001b[39;00m \u001b[38;5;28;43mself\u001b[39;49m\u001b[38;5;241;43m.\u001b[39;49m\u001b[43m__get_result\u001b[49m\u001b[43m(\u001b[49m\u001b[43m)\u001b[49m\n\u001b[0;32m    457\u001b[0m \u001b[38;5;28;01melse\u001b[39;00m:\n\u001b[0;32m    458\u001b[0m     \u001b[38;5;28;01mraise\u001b[39;00m \u001b[38;5;167;01mTimeoutError\u001b[39;00m()\n",
      "File \u001b[1;32mc:\\Program Files\\Python312\\Lib\\concurrent\\futures\\_base.py:401\u001b[0m, in \u001b[0;36mFuture.__get_result\u001b[1;34m(self)\u001b[0m\n\u001b[0;32m    399\u001b[0m \u001b[38;5;28;01mif\u001b[39;00m \u001b[38;5;28mself\u001b[39m\u001b[38;5;241m.\u001b[39m_exception:\n\u001b[0;32m    400\u001b[0m     \u001b[38;5;28;01mtry\u001b[39;00m:\n\u001b[1;32m--> 401\u001b[0m         \u001b[38;5;28;01mraise\u001b[39;00m \u001b[38;5;28mself\u001b[39m\u001b[38;5;241m.\u001b[39m_exception\n\u001b[0;32m    402\u001b[0m     \u001b[38;5;28;01mfinally\u001b[39;00m:\n\u001b[0;32m    403\u001b[0m         \u001b[38;5;66;03m# Break a reference cycle with the exception in self._exception\u001b[39;00m\n\u001b[0;32m    404\u001b[0m         \u001b[38;5;28mself\u001b[39m \u001b[38;5;241m=\u001b[39m \u001b[38;5;28;01mNone\u001b[39;00m\n",
      "\u001b[1;31mBrokenProcessPool\u001b[0m: A process in the process pool was terminated abruptly while the future was running or pending."
     ]
    }
   ],
   "source": [
    "from concurrent.futures import ProcessPoolExecutor\n",
    "import concurrent.futures\n",
    "import time\n",
    "\n",
    "def do_something(seconds):\n",
    "    print(f'Sleeping for {seconds} second(s)')\n",
    "    time.sleep(seconds)\n",
    "    print(f'#--><| Done sleeping for {seconds} second(s)...')\n",
    "\n",
    "\n",
    "\n",
    "\n",
    "start_time = time.perf_counter()\n",
    "output = []\n",
    "\n",
    "with ProcessPoolExecutor() as executor:\n",
    "    results = executor.submit(do_something, 10)\n",
    "    #output.append(result)\n",
    "\n",
    "    print(results.result())\n",
    "print('#--><|', ('='*80), '|><--#')\n",
    "print(f'#--><| Total no. of. processes started: {len(output)}')\n",
    "print('#--><|', ('='*80), '|><--#')\n",
    "\n",
    "\n",
    "final_time = time.perf_counter()\n",
    "\n",
    "print('#--><|', ('='*80), '|><--#')\n",
    "print(f'#--><| Time taken to complete all the methods: {round((final_time - start_time), 4)} second(s)')\n",
    "print('#--><|', ('='*80), '|><--#')\n"
   ]
  },
  {
   "cell_type": "markdown",
   "metadata": {},
   "source": [
    "##### 6B. Multi-Processing"
   ]
  },
  {
   "cell_type": "code",
   "execution_count": null,
   "metadata": {},
   "outputs": [],
   "source": [
    "import multiprocessing\n",
    "import time\n",
    "from do_something import doSomething\n",
    "\n",
    "dS = doSomething(10)\n",
    "\n",
    "start_time = time.perf_counter()\n",
    "process = []\n",
    "\n",
    "for _ in range(10):\n",
    "    p = multiprocessing.Process(target=dS.do_something)\n",
    "    p.start()\n",
    "    process.append(p)\n",
    "\n",
    "print('#--><|', ('='*80), '|><--#')\n",
    "print(f'#--><| Total processes started: {len(process)}')\n",
    "for pro in process:\n",
    "    print('#--><|', pro)\n",
    "    pro.join()\n",
    "\n",
    "final_time = time.perf_counter()\n",
    "\n",
    "print('#--><|', ('='*80), '|><--#')\n",
    "print(f'#--><| Time taken to complete all the processes: {round((final_time - start_time), 4)} second(s)')\n",
    "print('#--><|', ('='*80), '|><--#')\n"
   ]
  }
 ],
 "metadata": {
  "kernelspec": {
   "display_name": "Python 3",
   "language": "python",
   "name": "python3"
  },
  "language_info": {
   "codemirror_mode": {
    "name": "ipython",
    "version": 3
   },
   "file_extension": ".py",
   "mimetype": "text/x-python",
   "name": "python",
   "nbconvert_exporter": "python",
   "pygments_lexer": "ipython3",
   "version": "3.12.1"
  }
 },
 "nbformat": 4,
 "nbformat_minor": 2
}
